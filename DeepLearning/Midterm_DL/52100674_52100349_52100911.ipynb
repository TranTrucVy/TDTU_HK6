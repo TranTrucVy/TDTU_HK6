{
  "cells": [
    {
      "cell_type": "markdown",
      "id": "xVzVRkHNZRd1",
      "metadata": {
        "id": "xVzVRkHNZRd1"
      },
      "source": [
        "# **MIDTERM DEEP LEARNING**\n",
        "**GVHD: LÊ ANH CƯỜNG**\n",
        "\n",
        "**Team member**\n",
        "\n",
        "Trần Thị Vẹn - 52100674\n",
        "\n",
        "Nguyễn Thanh Tú - 52100349\n",
        "\n",
        "Võ Luyện - 52100911\n",
        "\n"
      ]
    },
    {
      "cell_type": "markdown",
      "id": "uPZKYURmZ4os",
      "metadata": {
        "id": "uPZKYURmZ4os"
      },
      "source": [
        "# Practical Implementation:\n",
        "\n",
        "-\tChoose a deep learning framework (PyTorch) and implement a simple neural network model from scratch using Autograd capabilities.\n",
        "\n",
        "-\tDefine a custom loss function and explore how Autograd computes gradients for this function.\n",
        "\n",
        "-\tExperiment with different optimization algorithms (e.g., SGD, Adam) and observe their effects on training convergence and performance.\n",
        "\n",
        "# Experimental Analysis:\n",
        "-\tConduct experiments to analyze the efficiency and numerical stability of Autograd-based gradient computations.\n",
        "-\tInvestigate the impact of batch size, learning rate, and network architecture on gradient computation and training dynamics.\n",
        "\n",
        "Question 2:\n",
        "\n",
        "- Implement CNN-LSTM models for the problem of Image Captioning with at least two options: with and without using attention mechanism for the decoding process.\n",
        "\n",
        "- Training the models on Colab environments using GPU and CPU only.\n"
      ]
    },
    {
      "cell_type": "markdown",
      "id": "dV5RLz9baODq",
      "metadata": {
        "id": "dV5RLz9baODq"
      },
      "source": [
        "# Practical Implementation:\n",
        "Choose a deep learning framework (PyTorch) and implement a simple neural network model from scratch using Autograd capabilities.\n",
        "\n",
        "Define a custom loss function and explore how Autograd computes gradients for this function.\n",
        "\n",
        "Experiment with different optimization algorithms (e.g., SGD, Adam) and observe their effects on training convergence and performance."
      ]
    },
    {
      "cell_type": "code",
      "execution_count": null,
      "id": "2b0f89c9",
      "metadata": {
        "colab": {
          "base_uri": "https://localhost:8080/"
        },
        "id": "2b0f89c9",
        "outputId": "b673fac7-c6e4-4af4-85f4-4a21f7f5b658"
      },
      "outputs": [
        {
          "name": "stdout",
          "output_type": "stream",
          "text": [
            "Using pip 23.1.2 from /usr/local/lib/python3.10/dist-packages/pip (python 3.10)\n",
            "Requirement already satisfied: autograd in /usr/local/lib/python3.10/dist-packages (1.6.2)\n",
            "Requirement already satisfied: numpy>=1.12 in /usr/local/lib/python3.10/dist-packages (from autograd) (1.25.2)\n",
            "Requirement already satisfied: future>=0.15.2 in /usr/local/lib/python3.10/dist-packages (from autograd) (0.18.3)\n"
          ]
        }
      ],
      "source": [
        "pip install -v autograd"
      ]
    },
    {
      "cell_type": "code",
      "execution_count": 3,
      "id": "bd1f1f5e",
      "metadata": {
        "id": "bd1f1f5e"
      },
      "outputs": [],
      "source": [
        "import torch\n",
        "import torch.nn.functional as F\n",
        "import matplotlib.pyplot as plt\n",
        "from sklearn.preprocessing import StandardScaler\n",
        "from sklearn.model_selection import train_test_split\n",
        "import torch.nn as nn\n",
        "from sklearn.datasets import fetch_california_housing\n"
      ]
    },
    {
      "cell_type": "code",
      "execution_count": 4,
      "id": "7f05308a",
      "metadata": {
        "id": "7f05308a"
      },
      "outputs": [],
      "source": [
        "housing = fetch_california_housing()\n",
        "X = housing.data\n",
        "y = housing.target.reshape(-1, 1)\n",
        "scaler = StandardScaler()\n",
        "X = scaler.fit_transform(X)"
      ]
    },
    {
      "cell_type": "code",
      "execution_count": 5,
      "id": "e8e8ffef",
      "metadata": {
        "id": "e8e8ffef"
      },
      "outputs": [],
      "source": [
        "X_train, X_test, y_train, y_test = train_test_split(X, y, test_size=0.33, random_state=42)"
      ]
    },
    {
      "cell_type": "code",
      "execution_count": 6,
      "id": "41b08a3f",
      "metadata": {
        "id": "41b08a3f"
      },
      "outputs": [],
      "source": [
        "X = torch.FloatTensor(X_train)\n",
        "y = torch.FloatTensor(y_train)\n",
        "X_test = torch.FloatTensor(X_test)\n",
        "y_test = torch.FloatTensor(y_test)"
      ]
    },
    {
      "cell_type": "markdown",
      "id": "f60bdf29",
      "metadata": {
        "id": "f60bdf29"
      },
      "source": [
        "### Choose a deep learning framework (PyTorch)\n",
        "### Implement a simple neural network model from scratch using Autograd capabilities."
      ]
    },
    {
      "cell_type": "code",
      "execution_count": 7,
      "id": "7903f01b",
      "metadata": {
        "id": "7903f01b"
      },
      "outputs": [],
      "source": [
        "# Define a simple neural network class\n",
        "class SimpleNeuralNetwork(nn.Module):\n",
        "    def __init__(self, input_size, output_size):\n",
        "        super(SimpleNeuralNetwork, self).__init__()\n",
        "        self.fc1 = nn.Linear(input_size, 16)\n",
        "        self.fc2 = nn.Linear(16, 8)\n",
        "        self.fc3 = nn.Linear(8, output_size)\n",
        "\n",
        "    def forward(self, x):\n",
        "        x = F.relu(self.fc1(x))\n",
        "        x = F.relu(self.fc2(x))\n",
        "        x = self.fc3(x)\n",
        "        return x\n",
        "# Define training parameters\n",
        "input_size = X_train.shape[1]\n",
        "output_size = 1\n",
        "learning_rate = 0.01\n",
        "epochs = 300"
      ]
    },
    {
      "cell_type": "code",
      "execution_count": 8,
      "id": "62a20f48",
      "metadata": {
        "id": "62a20f48"
      },
      "outputs": [],
      "source": [
        "# Define a custom loss function\n",
        "def custom_loss(output, target):\n",
        "    loss = torch.mean((output - target) ** 2)\n",
        "    return loss"
      ]
    },
    {
      "cell_type": "markdown",
      "id": "518ab352",
      "metadata": {
        "id": "518ab352"
      },
      "source": [
        "### Observe how Autograd computes gradients"
      ]
    },
    {
      "cell_type": "markdown",
      "id": "f768706f",
      "metadata": {
        "id": "f768706f"
      },
      "source": [
        "Nếu chúng ta xem xét các lớp của mô hình, ta có thể kiểm tra các giá trị của trọng số và xác minh rằng chưa có độ dốc nào được tính toán:"
      ]
    },
    {
      "cell_type": "code",
      "execution_count": 9,
      "id": "ea0a19c1",
      "metadata": {
        "id": "ea0a19c1"
      },
      "outputs": [],
      "source": [
        "model = SimpleNeuralNetwork(input_size, output_size)"
      ]
    },
    {
      "cell_type": "code",
      "execution_count": 10,
      "id": "ba4f012b",
      "metadata": {
        "colab": {
          "base_uri": "https://localhost:8080/"
        },
        "id": "ba4f012b",
        "outputId": "e645d714-f8cf-4a35-ad71-45b7c13de8ab"
      },
      "outputs": [
        {
          "metadata": {
            "tags": null
          },
          "name": "stdout",
          "output_type": "stream",
          "text": [
            "tensor([ 0.2414,  0.2311,  0.2874,  0.1818, -0.2090,  0.2980, -0.3002,  0.3477],\n",
            "       grad_fn=<SliceBackward0>)\n",
            "None\n"
          ]
        }
      ],
      "source": [
        "print(model.fc3.weight[0][0:10]) # just a small slice\n",
        "print(model.fc3.weight.grad)"
      ]
    },
    {
      "cell_type": "code",
      "execution_count": 11,
      "id": "b69dc282",
      "metadata": {
        "id": "b69dc282"
      },
      "outputs": [],
      "source": [
        "optimizer = torch.optim.SGD(model.parameters(), lr=0.001)"
      ]
    },
    {
      "cell_type": "markdown",
      "id": "975cc425",
      "metadata": {
        "id": "975cc425"
      },
      "source": [
        "Xem thay đổi như thế nào khi chúng ta thực hiện một đợt training đối với loss fution, đồng thời chúng ta sẽ sử dụng hàm tối ưu hóa gradient."
      ]
    },
    {
      "cell_type": "code",
      "execution_count": 12,
      "id": "93122258",
      "metadata": {
        "colab": {
          "base_uri": "https://localhost:8080/"
        },
        "id": "93122258",
        "outputId": "9fc8a146-5aeb-42e8-d282-82b06ff27fe0"
      },
      "outputs": [
        {
          "metadata": {
            "tags": null
          },
          "name": "stdout",
          "output_type": "stream",
          "text": [
            "tensor(4.7298, grad_fn=<MeanBackward0>)\n"
          ]
        }
      ],
      "source": [
        "outputs = model(X) # Forward prop\n",
        "loss = custom_loss(outputs, y)\n",
        "optimizer.zero_grad() # Clear the gradient buffer\n",
        "print(loss)"
      ]
    },
    {
      "cell_type": "markdown",
      "id": "131084f6",
      "metadata": {
        "id": "131084f6"
      },
      "source": [
        "Bây giờ, hãy gọi loss.backward()"
      ]
    },
    {
      "cell_type": "code",
      "execution_count": 13,
      "id": "aed82cc1",
      "metadata": {
        "colab": {
          "base_uri": "https://localhost:8080/"
        },
        "id": "aed82cc1",
        "outputId": "3a58dce0-2012-46b8-87a1-9004a22d0810"
      },
      "outputs": [
        {
          "metadata": {
            "tags": null
          },
          "name": "stdout",
          "output_type": "stream",
          "text": [
            "tensor([ 0.2414,  0.2311,  0.2874,  0.1818, -0.2090,  0.2980, -0.3002,  0.3477],\n",
            "       grad_fn=<SliceBackward0>)\n",
            "tensor([-0.7287, -0.1095, -0.0788, -0.1719, -0.0563, -0.6163, -1.8003, -0.1488])\n"
          ]
        }
      ],
      "source": [
        "loss.backward() # Backprop\\\n",
        "print(model.fc3.weight[0][0:10])\n",
        "print(model.fc3.weight.grad[0][0:10])"
      ]
    },
    {
      "cell_type": "markdown",
      "id": "717977ab",
      "metadata": {
        "id": "717977ab"
      },
      "source": [
        "Chúng ta có thể thấy rằng gradient đã được tính toán cho từng trọng số học tập, nhưng các trọng số vẫn không thay đổi vì chúng ta chưa chạy hàm tối ưu hoá. Hàm tối ưu hóa chịu trách nhiệm cập nhật trọng số mô hình dựa trên gradient được tính toán."
      ]
    },
    {
      "cell_type": "code",
      "execution_count": 14,
      "id": "56fe558a",
      "metadata": {
        "colab": {
          "base_uri": "https://localhost:8080/"
        },
        "id": "56fe558a",
        "outputId": "04b4a047-59b2-4ba6-e203-33f1f84f3672"
      },
      "outputs": [
        {
          "metadata": {
            "tags": null
          },
          "name": "stdout",
          "output_type": "stream",
          "text": [
            "tensor([ 0.2421,  0.2312,  0.2875,  0.1820, -0.2089,  0.2986, -0.2984,  0.3478],\n",
            "       grad_fn=<SliceBackward0>)\n",
            "tensor([-0.7287, -0.1095, -0.0788, -0.1719, -0.0563, -0.6163, -1.8003, -0.1488])\n"
          ]
        }
      ],
      "source": [
        "optimizer.step() # Update weights\n",
        "print(model.fc3.weight[0][0:10])\n",
        "print(model.fc3.weight.grad[0][0:10])"
      ]
    },
    {
      "cell_type": "markdown",
      "id": "97a801cd",
      "metadata": {
        "id": "97a801cd"
      },
      "source": [
        "### Define a custom loss function and explore how Autograd computes gradients for this function."
      ]
    },
    {
      "cell_type": "code",
      "execution_count": 15,
      "id": "426cc2dd",
      "metadata": {
        "colab": {
          "base_uri": "https://localhost:8080/"
        },
        "id": "426cc2dd",
        "outputId": "88333e45-ed8e-4bc8-e406-ab5e3872666b"
      },
      "outputs": [
        {
          "metadata": {
            "tags": null
          },
          "name": "stdout",
          "output_type": "stream",
          "text": [
            "Input gradients: tensor([[ 0.1416,  0.3706, -0.2735, -0.0452, -0.2074],\n",
            "        [ 0.1273, -0.0877,  0.1139, -0.0766, -0.0895],\n",
            "        [ 0.1951, -0.0998, -0.0098,  0.1715,  0.1443]])\n"
          ]
        }
      ],
      "source": [
        "import torch\n",
        "\n",
        "class MeanSquaredError(torch.autograd.Function):\n",
        "    @staticmethod\n",
        "    def forward(ctx, inputs, targets):\n",
        "        ctx.save_for_backward(inputs, targets)\n",
        "        return torch.mean((inputs - targets) ** 2)\n",
        "\n",
        "    @staticmethod\n",
        "    def backward(ctx, grad_output):\n",
        "        inputs, targets = ctx.saved_tensors\n",
        "        grad_inputs = 2 * (inputs - targets) * grad_output / inputs.numel()\n",
        "        return grad_inputs, -grad_inputs\n",
        "# Example usage\n",
        "inputs = torch.randn(3, 5, requires_grad=True)\n",
        "targets = torch.randn(3, 5)\n",
        "\n",
        "loss = MeanSquaredError.apply(inputs, targets)\n",
        "loss.backward()\n",
        "\n",
        "print(f\"Input gradients: {inputs.grad}\")"
      ]
    },
    {
      "cell_type": "markdown",
      "id": "cf79fc89",
      "metadata": {
        "id": "cf79fc89"
      },
      "source": [
        "Phương thức backward có trách nhiệm tính toán đạo hàm của hàm mất mát so với đầu vào. Nó lấy đầu vào và mục tiêu đã lưu bằng cách sử dụng ctx.saved_tensors. Sau đó, nó tính toán đạo hàm bằng công thức:\n",
        "\n",
        "### grad_inputs = 2 * (inputs - targets) * grad_output / inputs.numel()\n",
        "\n",
        "grad_output là đạo hàm của hàm mất mát so với đầu ra từ quá trình lan truyền xuôi (trong trường hợp này, nó là một giá trị scalar bằng 1).\n",
        "\n",
        "Đạo hàm được trả về dưới dạng một tuple, phần tử đầu tiên tương ứng với đạo hàm so với đầu vào, và phần tử thứ hai tương ứng với đạo hàm so với mục tiêu (là -grad_inputs vì mục tiêu được xem như hằng số).\n",
        "\n",
        "Trong phần sử dụng ví dụ, chúng ta tạo ngẫu nhiên đầu vào và mục tiêu, tính toán hàm mất mát bằng cách sử dụng MeanSquaredError.apply(inputs, targets), và gọi loss.backward() để tính toán đạo hàm.\n",
        "\n",
        "Cuối cùng, chúng ta in ra đạo hàm so với đầu vào bằng cách sử dụng inputs.grad."
      ]
    },
    {
      "cell_type": "markdown",
      "id": "38f33fd8",
      "metadata": {
        "id": "38f33fd8"
      },
      "source": [
        "### Experiment with different optimization algorithms (e.g., SGD, Adam) and observe their effects on training convergence and performance."
      ]
    },
    {
      "cell_type": "code",
      "execution_count": 16,
      "id": "ef02cce0",
      "metadata": {
        "colab": {
          "base_uri": "https://localhost:8080/",
          "height": 680
        },
        "id": "ef02cce0",
        "outputId": "a8a80122-c98d-4b8e-d65c-3802476c5e7d"
      },
      "outputs": [
        {
          "output_type": "stream",
          "name": "stdout",
          "text": [
            "SGD - Epoch 1/300, Loss: 6.067559242248535\n",
            "SGD - Epoch 101/300, Loss: 0.948240339756012\n",
            "SGD - Epoch 201/300, Loss: 0.6603571772575378\n",
            "Adam - Epoch 1/300, Loss: 4.384160995483398\n",
            "Adam - Epoch 101/300, Loss: 0.47684362530708313\n",
            "Adam - Epoch 201/300, Loss: 0.3594013750553131\n",
            "RMSprop - Epoch 1/300, Loss: 6.809846878051758\n",
            "RMSprop - Epoch 101/300, Loss: 0.40870222449302673\n",
            "RMSprop - Epoch 201/300, Loss: 0.36852896213531494\n",
            "AdamW - Epoch 1/300, Loss: 4.8911967277526855\n",
            "AdamW - Epoch 101/300, Loss: 0.43598097562789917\n",
            "AdamW - Epoch 201/300, Loss: 0.3712499737739563\n"
          ]
        },
        {
          "output_type": "display_data",
          "data": {
            "text/plain": [
              "<Figure size 640x480 with 1 Axes>"
            ],
            "image/png": "[encoded data removed]"
          },
          "metadata": {}
        }
      ],
      "source": [
        "# Experiment with different optimization algorithms: SGD and Adam\n",
        "epochs = 300\n",
        "optimizers = {\n",
        "    \"SGD\": torch.optim.SGD(model.parameters(), lr=learning_rate),\n",
        "    \"Adam\": torch.optim.Adam(model.parameters(), lr=learning_rate),\n",
        "    \"RMSprop\": torch.optim.RMSprop(model.parameters(), lr=learning_rate),\n",
        "    \"AdamW\": torch.optim.AdamW(model.parameters(), lr=learning_rate)\n",
        "}\n",
        "\n",
        "# Training loop\n",
        "for optimizer_name, optimizer in optimizers.items():\n",
        "    losses = []\n",
        "    model = SimpleNeuralNetwork(input_size, output_size)\n",
        "    if(optimizer_name==\"Adam\"):\n",
        "        optimizer=torch.optim.Adam(model.parameters(), lr=learning_rate)\n",
        "    if(optimizer_name==\"SGD\"):\n",
        "        optimizer=torch.optim.SGD(model.parameters(), lr=learning_rate)\n",
        "    if(optimizer_name==\"RMSprop\"):\n",
        "        optimizer=torch.optim.RMSprop(model.parameters(), lr=learning_rate)\n",
        "    if(optimizer_name==\"AdamW\"):\n",
        "        optimizer=torch.optim.AdamW(model.parameters(), lr=learning_rate)\n",
        "    for epoch in range(epochs):\n",
        "        # Forward pass\n",
        "        outputs = model.forward(X)\n",
        "\n",
        "        # Compute loss\n",
        "        loss = custom_loss(outputs, y)\n",
        "\n",
        "        # Backward pass\n",
        "        optimizer.zero_grad()\n",
        "        loss.backward()\n",
        "        optimizer.step()\n",
        "\n",
        "        # Track loss\n",
        "        losses.append(loss.item())\n",
        "\n",
        "        # Print loss every 100 epochs\n",
        "        if epoch % 100 == 0:\n",
        "            print(f\"{optimizer_name} - Epoch {epoch + 1}/{epochs}, Loss: {loss.item()}\")\n",
        "\n",
        "    # Plot loss curve\n",
        "    plt.plot(losses, label=optimizer_name)\n",
        "\n",
        "plt.title(\"Training Loss\")\n",
        "plt.xlabel(\"Epoch\")\n",
        "plt.ylabel(\"Loss\")\n",
        "plt.legend()\n",
        "plt.show()\n"
      ]
    },
    {
      "cell_type": "markdown",
      "id": "60a9f293",
      "metadata": {
        "id": "60a9f293"
      },
      "source": [
        "### Khám phá Autograd:\n",
        "\n",
        "Trong bước truyền ngược, Autograd tự động tính toán gradient của hàm mất mát đối với tất cả các tham số của mô hình.\n",
        "Gradient được sử dụng bởi trình tối ưu hóa để cập nhật các tham số theo hướng giảm thiểu hàm mất mát."
      ]
    },
    {
      "cell_type": "markdown",
      "id": "0a72e8f0",
      "metadata": {
        "id": "0a72e8f0"
      },
      "source": [
        "### SGD (Stochastic Gradient Descent):\n",
        "Convergence Behavior: Thường cần nhiều epochs để hội tụ vì nó có thể bị rơi vào các điểm địa phương trên định hướng của hàm mất mát.\n",
        "Final Performance: Có thể đạt được kết quả tốt khi được sử dụng với tốc độ học phù hợp và kích thước batch lớn. Tuy nhiên, nó có thể cần thêm thời gian huấn luyện so với các phương pháp tối ưu hóa khác.\n",
        "\n",
        "### Adam:\n",
        "Convergence Behavior: Thường hội tụ nhanh hơn so với SGD do sử dụng tỷ lệ học động.\n",
        "\n",
        "Final Performance: Có thể đạt được hiệu suất tốt ngay từ đầu huấn luyện. Adam thường là lựa chọn ưa thích vì khả năng tương thích với nhiều loại mô hình và dễ sử dụng.\n",
        "\n",
        "### RMSprop:\n",
        "Convergence Behavior: Có thể giúp hội tụ nhanh hơn so với SGD, đặc biệt khi có độ dốc biến đổi đáng kể.\n",
        "\n",
        "Final Performance: RMSprop có thể mang lại hiệu suất tốt nhưng đôi khi cũng cần điều chỉnh siêu tham số cho phù hợp với bài toán cụ thể.\n",
        "\n",
        "### AdamW:\n",
        "Convergence Behavior: Tương tự như Adam, nhưng cải thiện về mặt lý thuyết bằng cách chỉnh sửa hệ số decay trọng số trong quá trình cập nhật trọng số.\n",
        "\n",
        "Final Performance: AdamW có thể giúp tránh tình trạng overfitting và cải thiện hiệu suất cuối cùng của mô hình, đặc biệt khi mô hình có nhiều trọng số.\n"
      ]
    },
    {
      "cell_type": "markdown",
      "id": "345pG_JNa-Tz",
      "metadata": {
        "id": "345pG_JNa-Tz"
      },
      "source": [
        "# Experimental Analysis:\n",
        "- Conduct experiments to analyze the efficiency and numerical stability of Autograd-based gradient computations.\n",
        "- Investigate the impact of batch size, learning rate, and network architecture on gradient computation and training dynamics."
      ]
    },
    {
      "cell_type": "markdown",
      "id": "XsDZL60DbG7p",
      "metadata": {
        "id": "XsDZL60DbG7p"
      },
      "source": [
        "### Conduct experiments to analyze the efficiency and numerical stability of Autograd-based gradient computations."
      ]
    },
    {
      "cell_type": "code",
      "execution_count": 17,
      "id": "FDHr_1kcbNAq",
      "metadata": {
        "id": "FDHr_1kcbNAq"
      },
      "outputs": [],
      "source": [
        "import torch\n",
        "import time\n",
        "import matplotlib.pyplot as plt"
      ]
    },
    {
      "cell_type": "code",
      "execution_count": 18,
      "id": "yfCljM6GbRSN",
      "metadata": {
        "id": "yfCljM6GbRSN"
      },
      "outputs": [],
      "source": [
        "# Function for our experiment\n",
        "def compute_loss(x, y, w):\n",
        "    # Compute the loss (Mean Squared Error)\n",
        "    loss = torch.mean((torch.matmul(x, w) - y)**2)\n",
        "    return loss"
      ]
    },
    {
      "cell_type": "code",
      "execution_count": 19,
      "id": "uY-HM1EhbU-5",
      "metadata": {
        "id": "uY-HM1EhbU-5"
      },
      "outputs": [],
      "source": [
        "# Function to manually compute gradients\n",
        "def manual_gradient(x, y, w):\n",
        "    # Compute gradients manually\n",
        "    grad = 2 * torch.matmul(x.t(), torch.matmul(x, w) - y) / x.size(0)\n",
        "    return grad"
      ]
    },
    {
      "cell_type": "code",
      "execution_count": 20,
      "id": "JW6tQ1j6bYK_",
      "metadata": {
        "id": "JW6tQ1j6bYK_"
      },
      "outputs": [],
      "source": [
        "# Experiment setup\n",
        "input_size = 1000\n",
        "output_size = 1\n",
        "num_samples = 1000\n",
        "learning_rate = 0.01\n",
        "epochs = 100\n",
        "\n",
        "# Generate random data\n",
        "x = torch.randn(num_samples, input_size)\n",
        "y = torch.randn(num_samples, output_size)\n",
        "w = torch.randn(input_size, output_size, requires_grad=True)  # Ensure gradients are tracked\n",
        "\n",
        "# Lists to store losses and computation times\n",
        "autograd_losses = []\n",
        "manual_losses = []\n",
        "autograd_times = []\n",
        "manual_times = []"
      ]
    },
    {
      "cell_type": "code",
      "execution_count": 21,
      "id": "4xkqunXPbblm",
      "metadata": {
        "id": "4xkqunXPbblm"
      },
      "outputs": [],
      "source": [
        "# Autograd-based gradient computation\n",
        "for epoch in range(epochs):\n",
        "    start_time = time.time()\n",
        "    # Forward pass\n",
        "    loss = compute_loss(x, y, w)\n",
        "\n",
        "    # Backward pass\n",
        "    loss.backward()\n",
        "\n",
        "    # Update weights\n",
        "    with torch.no_grad():\n",
        "        w -= learning_rate * w.grad\n",
        "\n",
        "    # Manually zero the gradients after updating weights\n",
        "    w.grad.zero_()\n",
        "\n",
        "    autograd_losses.append(loss.item())\n",
        "    autograd_times.append(time.time() - start_time)\n",
        "\n",
        "# Manual gradient computation\n",
        "w = torch.randn(input_size, output_size, requires_grad=True)  # Reset weights with gradients tracked\n",
        "for epoch in range(epochs):\n",
        "    start_time = time.time()\n",
        "    # Forward pass\n",
        "    loss = compute_loss(x, y, w)\n",
        "\n",
        "    # Compute gradients manually\n",
        "    grad = manual_gradient(x, y, w)\n",
        "\n",
        "    # Update weights\n",
        "    with torch.no_grad():\n",
        "        w -= learning_rate * grad\n",
        "\n",
        "    manual_losses.append(loss.item())\n",
        "    manual_times.append(time.time() - start_time)"
      ]
    },
    {
      "cell_type": "code",
      "execution_count": 22,
      "id": "L5XffwE7bdx9",
      "metadata": {
        "colab": {
          "base_uri": "https://localhost:8080/",
          "height": 607
        },
        "id": "L5XffwE7bdx9",
        "outputId": "03902348-1430-42f5-a9ae-27ea376bcd86"
      },
      "outputs": [
        {
          "output_type": "display_data",
          "data": {
            "text/plain": [
              "<Figure size 1200x600 with 2 Axes>"
            ],
            "image/png": "[encoded data removed]"
          },
          "metadata": {}
        }
      ],
      "source": [
        "# Plotting\n",
        "plt.figure(figsize=(12, 6))\n",
        "\n",
        "plt.subplot(1, 2, 1)\n",
        "plt.plot(range(epochs), autograd_losses, label='Autograd Loss')\n",
        "plt.plot(range(epochs), manual_losses, label='Manual Loss')\n",
        "plt.xlabel('Epochs')\n",
        "plt.ylabel('Loss')\n",
        "plt.title('Loss Comparison')\n",
        "plt.legend()\n",
        "\n",
        "plt.subplot(1, 2, 2)\n",
        "plt.plot(range(epochs), autograd_times, label='Autograd Time')\n",
        "plt.plot(range(epochs), manual_times, label='Manual Time')\n",
        "plt.xlabel('Epochs')\n",
        "plt.ylabel('Time (s)')\n",
        "plt.title('Computation Time Comparison')\n",
        "plt.legend()\n",
        "\n",
        "plt.tight_layout()\n",
        "plt.show()"
      ]
    },
    {
      "cell_type": "markdown",
      "id": "yP_gGKyrbKUO",
      "metadata": {
        "id": "yP_gGKyrbKUO"
      },
      "source": [
        "### Investigate the impact of batch size, learning rate, and network architecture on gradient computation and training dynamics."
      ]
    },
    {
      "cell_type": "code",
      "execution_count": 23,
      "id": "tcdiCcNybr3y",
      "metadata": {
        "id": "tcdiCcNybr3y"
      },
      "outputs": [],
      "source": [
        "import torch\n",
        "import torch.nn as nn\n",
        "import torchvision\n",
        "import torchvision.transforms as transforms\n",
        "import time\n",
        "import matplotlib.pyplot as plt"
      ]
    },
    {
      "cell_type": "code",
      "execution_count": 24,
      "id": "t7haltkBbgZn",
      "metadata": {
        "id": "t7haltkBbgZn",
        "colab": {
          "base_uri": "https://localhost:8080/"
        },
        "outputId": "bb805bbe-05b9-4d93-c511-8159e41f18d9"
      },
      "outputs": [
        {
          "output_type": "stream",
          "name": "stdout",
          "text": [
            "Downloading http://yann.lecun.com/exdb/mnist/train-images-idx3-ubyte.gz\n",
            "Downloading http://yann.lecun.com/exdb/mnist/train-images-idx3-ubyte.gz to ./data/MNIST/raw/train-images-idx3-ubyte.gz\n"
          ]
        },
        {
          "output_type": "stream",
          "name": "stderr",
          "text": [
            "100%|██████████| 9912422/9912422 [00:00<00:00, 271706485.19it/s]"
          ]
        },
        {
          "output_type": "stream",
          "name": "stdout",
          "text": [
            "Extracting ./data/MNIST/raw/train-images-idx3-ubyte.gz to ./data/MNIST/raw\n"
          ]
        },
        {
          "output_type": "stream",
          "name": "stderr",
          "text": [
            "\n"
          ]
        },
        {
          "output_type": "stream",
          "name": "stdout",
          "text": [
            "\n",
            "Downloading http://yann.lecun.com/exdb/mnist/train-labels-idx1-ubyte.gz\n",
            "Downloading http://yann.lecun.com/exdb/mnist/train-labels-idx1-ubyte.gz to ./data/MNIST/raw/train-labels-idx1-ubyte.gz\n"
          ]
        },
        {
          "output_type": "stream",
          "name": "stderr",
          "text": [
            "100%|██████████| 28881/28881 [00:00<00:00, 23317746.65it/s]\n"
          ]
        },
        {
          "output_type": "stream",
          "name": "stdout",
          "text": [
            "Extracting ./data/MNIST/raw/train-labels-idx1-ubyte.gz to ./data/MNIST/raw\n",
            "\n",
            "Downloading http://yann.lecun.com/exdb/mnist/t10k-images-idx3-ubyte.gz\n",
            "Downloading http://yann.lecun.com/exdb/mnist/t10k-images-idx3-ubyte.gz to ./data/MNIST/raw/t10k-images-idx3-ubyte.gz\n"
          ]
        },
        {
          "output_type": "stream",
          "name": "stderr",
          "text": [
            "100%|██████████| 1648877/1648877 [00:00<00:00, 156443355.05it/s]"
          ]
        },
        {
          "output_type": "stream",
          "name": "stdout",
          "text": [
            "Extracting ./data/MNIST/raw/t10k-images-idx3-ubyte.gz to ./data/MNIST/raw\n",
            "\n",
            "Downloading http://yann.lecun.com/exdb/mnist/t10k-labels-idx1-ubyte.gz\n"
          ]
        },
        {
          "output_type": "stream",
          "name": "stderr",
          "text": [
            "\n"
          ]
        },
        {
          "output_type": "stream",
          "name": "stdout",
          "text": [
            "Downloading http://yann.lecun.com/exdb/mnist/t10k-labels-idx1-ubyte.gz to ./data/MNIST/raw/t10k-labels-idx1-ubyte.gz\n"
          ]
        },
        {
          "output_type": "stream",
          "name": "stderr",
          "text": [
            "100%|██████████| 4542/4542 [00:00<00:00, 4499416.34it/s]\n"
          ]
        },
        {
          "output_type": "stream",
          "name": "stdout",
          "text": [
            "Extracting ./data/MNIST/raw/t10k-labels-idx1-ubyte.gz to ./data/MNIST/raw\n",
            "\n"
          ]
        }
      ],
      "source": [
        "transform = transforms.Compose([transforms.ToTensor(), transforms.Normalize((0.5,), (0.5,))])\n",
        "full_dataset = torchvision.datasets.MNIST(root='./data', train=True, download=True, transform=transform)\n",
        "test_dataset = torchvision.datasets.MNIST(root='./data', train=False, download=True, transform=transform)\n",
        "\n",
        "train_dataset_list = torch.utils.data.random_split(full_dataset, [len(full_dataset)//2, len(full_dataset)//2])\n",
        "\n",
        "trainset = train_dataset_list[0]\n",
        "\n",
        "test_dataset_list = torch.utils.data.random_split(test_dataset, [len(test_dataset)//2, len(test_dataset)//2])\n",
        "testset = test_dataset_list[0]"
      ]
    },
    {
      "cell_type": "code",
      "execution_count": 25,
      "id": "Ut1bRc5qbyjA",
      "metadata": {
        "id": "Ut1bRc5qbyjA"
      },
      "outputs": [],
      "source": [
        "# Định nghĩa mô hình\n",
        "class Net(nn.Module):\n",
        "    def __init__(self, num_channels):\n",
        "        super(Net, self).__init__()\n",
        "        self.conv1 = nn.Conv2d(1, num_channels, kernel_size=5)\n",
        "        self.conv2 = nn.Conv2d(num_channels, 20, kernel_size=5)\n",
        "        self.fc1 = nn.Linear(320, 50)\n",
        "        self.fc2 = nn.Linear(50, 10)\n",
        "\n",
        "    def forward(self, x):\n",
        "        x = nn.functional.relu(nn.functional.max_pool2d(self.conv1(x), 2))\n",
        "        x = nn.functional.relu(nn.functional.max_pool2d(self.conv2(x), 2))\n",
        "        x = x.view(-1, 320)\n",
        "        x = nn.functional.relu(self.fc1(x))\n",
        "        x = self.fc2(x)\n",
        "        return x"
      ]
    },
    {
      "cell_type": "code",
      "execution_count": 26,
      "id": "HvYEcQfMbz1w",
      "metadata": {
        "id": "HvYEcQfMbz1w"
      },
      "outputs": [],
      "source": [
        "# Hàm huấn luyện\n",
        "def train(model, device, train_loader, optimizer, epoch, log_interval=200):\n",
        "    model.train()\n",
        "    for batch_idx, (data, target) in enumerate(train_loader):\n",
        "        data, target = data.to(device), target.to(device)\n",
        "        optimizer.zero_grad()\n",
        "        output = model(data)\n",
        "        loss = nn.functional.cross_entropy(output, target)\n",
        "        loss.backward()\n",
        "        optimizer.step()\n",
        "        if batch_idx % log_interval == 0:\n",
        "            print('Train Epoch: {} [{}/{} ({:.0f}%)]\\tLoss: {:.6f}'.format(\n",
        "                epoch, batch_idx * len(data), len(train_loader.dataset),\n",
        "                100. * batch_idx / len(train_loader), loss.item()))"
      ]
    },
    {
      "cell_type": "code",
      "execution_count": 27,
      "id": "DSbm1mCxb1U_",
      "metadata": {
        "id": "DSbm1mCxb1U_"
      },
      "outputs": [],
      "source": [
        "# Hàm kiểm tra\n",
        "def test(model, device, test_loader):\n",
        "    model.eval()\n",
        "    test_loss = 0\n",
        "    correct = 0\n",
        "    with torch.no_grad():\n",
        "        for data, target in test_loader:\n",
        "            data, target = data.to(device), target.to(device)\n",
        "            output = model(data)\n",
        "            test_loss += nn.functional.cross_entropy(output, target, reduction='sum').item()\n",
        "            pred = output.argmax(dim=1, keepdim=True)\n",
        "            correct += pred.eq(target.view_as(pred)).sum().item()\n",
        "\n",
        "    test_loss /= len(test_loader.dataset)\n",
        "\n",
        "    return test_loss"
      ]
    },
    {
      "cell_type": "code",
      "execution_count": 28,
      "id": "hOM0EPkVb4rI",
      "metadata": {
        "id": "hOM0EPkVb4rI"
      },
      "outputs": [],
      "source": [
        "# Thí nghiệm tác động của kích thước batch\n",
        "def experiment_batch_size(batch_sizes):\n",
        "    train_losses = []\n",
        "    test_losses = []\n",
        "    forward_times = []\n",
        "    backward_times = []\n",
        "\n",
        "    for batch_size in batch_sizes:\n",
        "        train_loader = torch.utils.data.DataLoader(trainset, batch_size=batch_size, shuffle=True)\n",
        "        test_loader = torch.utils.data.DataLoader(testset, batch_size=1000, shuffle=True)\n",
        "\n",
        "        model = Net(num_channels=10).to(device)\n",
        "        optimizer = torch.optim.SGD(model.parameters(), lr=0.01)\n",
        "        epochs = 10\n",
        "\n",
        "        train_loss = []\n",
        "        test_loss = []\n",
        "\n",
        "        for epoch in range(1, epochs + 1):\n",
        "            train(model, device, train_loader, optimizer, epoch)\n",
        "            train_loss.append(test(model, device, train_loader))\n",
        "            test_loss.append(test(model, device, test_loader))\n",
        "\n",
        "        train_losses.append(train_loss)\n",
        "        test_losses.append(test_loss)\n",
        "\n",
        "        # Đo thời gian tính toán gradient\n",
        "        data, target = next(iter(train_loader))\n",
        "        data, target = data.to(device), target.to(device)\n",
        "\n",
        "        start = time.time()\n",
        "        output = model(data)\n",
        "        forward_time = time.time() - start\n",
        "\n",
        "        start = time.time()\n",
        "        loss = nn.functional.cross_entropy(output, target)\n",
        "        loss.backward()\n",
        "        backward_time = time.time() - start\n",
        "\n",
        "        forward_times.append(forward_time)\n",
        "        backward_times.append(backward_time)\n",
        "        # Vẽ đồ thị\n",
        "    plt.figure(figsize=(15, 5))\n",
        "    plt.subplot(1, 3, 1)\n",
        "    for i, batch_size in enumerate(batch_sizes):\n",
        "        plt.plot(range(epochs), train_losses[i], label=f'Batch Size={batch_size}')\n",
        "    plt.title('Train Loss')\n",
        "    plt.xlabel('Epoch')\n",
        "    plt.ylabel('Loss')\n",
        "    plt.legend()\n",
        "\n",
        "    plt.subplot(1, 3, 2)\n",
        "    for i, batch_size in enumerate(batch_sizes):\n",
        "        plt.plot(range(epochs), test_losses[i], label=f'Batch Size={batch_size}')\n",
        "    plt.title('Test Loss')\n",
        "    plt.xlabel('Epoch')\n",
        "    plt.ylabel('Loss')\n",
        "    plt.legend()\n",
        "\n",
        "    plt.subplot(1, 3, 3)\n",
        "    plt.bar(batch_sizes, forward_times, label='Forward Time')\n",
        "    plt.bar(batch_sizes, backward_times, label='Backward Time')\n",
        "    plt.title('Gradient Computation Time')\n",
        "    plt.xlabel('Batch Size')\n",
        "    plt.ylabel('Time (s)')\n",
        "    plt.legend()\n",
        "\n",
        "    plt.tight_layout()\n",
        "    plt.show()"
      ]
    },
    {
      "cell_type": "code",
      "execution_count": 29,
      "id": "vdrR-7yab9rQ",
      "metadata": {
        "id": "vdrR-7yab9rQ"
      },
      "outputs": [],
      "source": [
        "# Thí nghiệm tác động của tỷ lệ học tập\n",
        "def experiment_learning_rate(learning_rates):\n",
        "    train_losses = []\n",
        "    test_losses = []\n",
        "    forward_times = []\n",
        "    backward_times = []\n",
        "\n",
        "    for lr in learning_rates:\n",
        "        train_loader = torch.utils.data.DataLoader(trainset, batch_size=64, shuffle=True)\n",
        "        test_loader = torch.utils.data.DataLoader(testset, batch_size=1000, shuffle=True)\n",
        "\n",
        "        model = Net(num_channels=10).to(device)\n",
        "        optimizer = torch.optim.SGD(model.parameters(), lr=lr)\n",
        "        epochs = 10\n",
        "\n",
        "        train_loss = []\n",
        "        test_loss = []\n",
        "\n",
        "        for epoch in range(1, epochs + 1):\n",
        "            train(model, device, train_loader, optimizer, epoch)\n",
        "            train_loss.append(test(model, device, train_loader))\n",
        "            test_loss.append(test(model, device, test_loader))\n",
        "\n",
        "        train_losses.append(train_loss)\n",
        "        test_losses.append(test_loss)\n",
        "        # Vẽ đồ thị\n",
        "    plt.figure(figsize=(15, 5))\n",
        "    for i, lr in enumerate(learning_rates):\n",
        "        plt.subplot(1, 3, 1)\n",
        "        plt.plot(range(epochs), train_losses[i], label=f'LR={lr}')\n",
        "        plt.title('Train Loss')\n",
        "        plt.xlabel('Epoch')\n",
        "        plt.ylabel('Loss')\n",
        "        plt.legend()\n",
        "\n",
        "        plt.subplot(1, 3, 2)\n",
        "        plt.plot(range(epochs), test_losses[i], label=f'LR={lr}')\n",
        "        plt.title('Test Loss')\n",
        "        plt.xlabel('Epoch')\n",
        "        plt.ylabel('Loss')\n",
        "        plt.legend()\n",
        "\n",
        "\n",
        "    plt.tight_layout()\n",
        "    plt.show()"
      ]
    },
    {
      "cell_type": "code",
      "execution_count": 30,
      "id": "4ccITb4ScD8w",
      "metadata": {
        "id": "4ccITb4ScD8w"
      },
      "outputs": [],
      "source": [
        "def experiment_network_arch(architectures):\n",
        "    train_losses = []\n",
        "    test_losses = []\n",
        "    forward_times = []\n",
        "    backward_times = []\n",
        "\n",
        "    for arch in architectures:\n",
        "        train_loader = torch.utils.data.DataLoader(trainset, batch_size=64, shuffle=True)\n",
        "        test_loader = torch.utils.data.DataLoader(testset, batch_size=1000, shuffle=True)\n",
        "\n",
        "        model = arch(num_channels=10).to(device)\n",
        "        optimizer = torch.optim.SGD(model.parameters(), lr=0.01)\n",
        "        epochs = 10\n",
        "\n",
        "        train_loss = []\n",
        "        test_loss = []\n",
        "\n",
        "        for epoch in range(1, epochs + 1):\n",
        "            train(model, device, train_loader, optimizer, epoch)\n",
        "            train_loss.append(test(model, device, train_loader))\n",
        "            test_loss.append(test(model, device, test_loader))\n",
        "\n",
        "        train_losses.append(train_loss)\n",
        "        test_losses.append(test_loss)\n",
        "\n",
        "        # Measure forward and backward pass times\n",
        "        data, target = next(iter(train_loader))\n",
        "        data, target = data.to(device), target.to(device)\n",
        "\n",
        "        start = time.time()\n",
        "        output = model(data)\n",
        "        forward_time = time.time() - start\n",
        "\n",
        "        start = time.time()\n",
        "        loss = nn.functional.cross_entropy(output, target)\n",
        "        loss.backward()\n",
        "        backward_time = time.time() - start\n",
        "\n",
        "        forward_times.append(forward_time)\n",
        "        backward_times.append(backward_time)\n",
        "        # Plot results\n",
        "    plt.figure(figsize=(15, 5))\n",
        "    plt.subplot(1, 3, 1)\n",
        "    for i, arch in enumerate(architectures):\n",
        "        plt.plot(range(epochs), train_losses[i], label=f'{arch.__name__}')\n",
        "    plt.title('Train Loss')\n",
        "    plt.xlabel('Epoch')\n",
        "    plt.ylabel('Loss')\n",
        "    plt.legend()\n",
        "\n",
        "    plt.subplot(1, 3, 2)\n",
        "    for i, arch in enumerate(architectures):\n",
        "        plt.plot(range(epochs), test_losses[i], label=f'{arch.__name__}')\n",
        "    plt.title('Test Loss')\n",
        "    plt.xlabel('Epoch')\n",
        "    plt.ylabel('Loss')\n",
        "    plt.legend()\n",
        "\n",
        "    plt.subplot(1, 3, 3)\n",
        "    plt.bar(range(len(architectures)), forward_times, label='Forward Time')\n",
        "    plt.bar(range(len(architectures)), backward_times, label='Backward Time')\n",
        "    plt.title('Gradient Computation Time')\n",
        "    plt.xlabel('Network Architecture')\n",
        "    plt.xticks(range(len(architectures)), [arch.__name__ for arch in architectures], rotation=45)\n",
        "    plt.ylabel('Time (s)')\n",
        "    plt.legend()\n",
        "\n",
        "    plt.tight_layout()\n",
        "    plt.show()"
      ]
    },
    {
      "cell_type": "code",
      "execution_count": 31,
      "id": "flt0mhyScIV9",
      "metadata": {
        "id": "flt0mhyScIV9"
      },
      "outputs": [],
      "source": [
        "device = torch.device(\"mps\" if torch.backends.mps.is_available() else \"cpu\")"
      ]
    },
    {
      "cell_type": "code",
      "execution_count": null,
      "id": "R2G63ptfcKhy",
      "metadata": {
        "colab": {
          "base_uri": "https://localhost:8080/"
        },
        "id": "R2G63ptfcKhy",
        "outputId": "76c9a028-de12-4470-9959-aa0488a5b2ae"
      },
      "outputs": [
        {
          "output_type": "stream",
          "name": "stdout",
          "text": [
            "Train Epoch: 1 [0/30000 (0%)]\tLoss: 2.360723\n",
            "Train Epoch: 1 [3200/30000 (11%)]\tLoss: 2.263217\n",
            "Train Epoch: 1 [6400/30000 (21%)]\tLoss: 1.405464\n",
            "Train Epoch: 1 [9600/30000 (32%)]\tLoss: 0.370737\n",
            "Train Epoch: 1 [12800/30000 (43%)]\tLoss: 0.352897\n",
            "Train Epoch: 1 [16000/30000 (53%)]\tLoss: 0.088703\n",
            "Train Epoch: 1 [19200/30000 (64%)]\tLoss: 0.252421\n",
            "Train Epoch: 1 [22400/30000 (75%)]\tLoss: 0.092410\n",
            "Train Epoch: 1 [25600/30000 (85%)]\tLoss: 0.373127\n",
            "Train Epoch: 1 [28800/30000 (96%)]\tLoss: 0.181451\n",
            "Train Epoch: 2 [0/30000 (0%)]\tLoss: 0.108330\n",
            "Train Epoch: 2 [3200/30000 (11%)]\tLoss: 0.175387\n",
            "Train Epoch: 2 [6400/30000 (21%)]\tLoss: 0.122552\n",
            "Train Epoch: 2 [9600/30000 (32%)]\tLoss: 0.022281\n",
            "Train Epoch: 2 [12800/30000 (43%)]\tLoss: 0.008174\n",
            "Train Epoch: 2 [16000/30000 (53%)]\tLoss: 0.025643\n",
            "Train Epoch: 2 [19200/30000 (64%)]\tLoss: 0.053310\n",
            "Train Epoch: 2 [22400/30000 (75%)]\tLoss: 0.078903\n",
            "Train Epoch: 2 [25600/30000 (85%)]\tLoss: 0.102553\n",
            "Train Epoch: 2 [28800/30000 (96%)]\tLoss: 0.038569\n",
            "Train Epoch: 3 [0/30000 (0%)]\tLoss: 0.055126\n",
            "Train Epoch: 3 [3200/30000 (11%)]\tLoss: 0.015929\n",
            "Train Epoch: 3 [6400/30000 (21%)]\tLoss: 0.030291\n",
            "Train Epoch: 3 [9600/30000 (32%)]\tLoss: 0.010229\n",
            "Train Epoch: 3 [12800/30000 (43%)]\tLoss: 0.045723\n",
            "Train Epoch: 3 [16000/30000 (53%)]\tLoss: 0.235864\n",
            "Train Epoch: 3 [19200/30000 (64%)]\tLoss: 0.068315\n",
            "Train Epoch: 3 [22400/30000 (75%)]\tLoss: 0.002592\n",
            "Train Epoch: 3 [25600/30000 (85%)]\tLoss: 0.136524\n",
            "Train Epoch: 3 [28800/30000 (96%)]\tLoss: 0.076098\n",
            "Train Epoch: 4 [0/30000 (0%)]\tLoss: 0.010503\n",
            "Train Epoch: 4 [3200/30000 (11%)]\tLoss: 0.210582\n",
            "Train Epoch: 4 [6400/30000 (21%)]\tLoss: 0.037794\n",
            "Train Epoch: 4 [9600/30000 (32%)]\tLoss: 0.027328\n",
            "Train Epoch: 4 [12800/30000 (43%)]\tLoss: 0.191213\n",
            "Train Epoch: 4 [16000/30000 (53%)]\tLoss: 0.006411\n",
            "Train Epoch: 4 [19200/30000 (64%)]\tLoss: 0.001319\n",
            "Train Epoch: 4 [22400/30000 (75%)]\tLoss: 0.022812\n",
            "Train Epoch: 4 [25600/30000 (85%)]\tLoss: 0.034107\n",
            "Train Epoch: 4 [28800/30000 (96%)]\tLoss: 0.013429\n",
            "Train Epoch: 5 [0/30000 (0%)]\tLoss: 0.001933\n",
            "Train Epoch: 5 [3200/30000 (11%)]\tLoss: 0.095178\n",
            "Train Epoch: 5 [6400/30000 (21%)]\tLoss: 0.007703\n",
            "Train Epoch: 5 [9600/30000 (32%)]\tLoss: 0.054509\n",
            "Train Epoch: 5 [12800/30000 (43%)]\tLoss: 0.070015\n",
            "Train Epoch: 5 [16000/30000 (53%)]\tLoss: 0.001136\n",
            "Train Epoch: 5 [19200/30000 (64%)]\tLoss: 0.148026\n",
            "Train Epoch: 5 [22400/30000 (75%)]\tLoss: 0.071051\n",
            "Train Epoch: 5 [25600/30000 (85%)]\tLoss: 0.150973\n",
            "Train Epoch: 5 [28800/30000 (96%)]\tLoss: 0.001933\n",
            "Train Epoch: 6 [0/30000 (0%)]\tLoss: 0.010831\n",
            "Train Epoch: 6 [3200/30000 (11%)]\tLoss: 0.066401\n",
            "Train Epoch: 6 [6400/30000 (21%)]\tLoss: 0.006169\n",
            "Train Epoch: 6 [9600/30000 (32%)]\tLoss: 0.021689\n",
            "Train Epoch: 6 [12800/30000 (43%)]\tLoss: 0.311033\n",
            "Train Epoch: 6 [16000/30000 (53%)]\tLoss: 0.026123\n",
            "Train Epoch: 6 [19200/30000 (64%)]\tLoss: 0.020695\n",
            "Train Epoch: 6 [22400/30000 (75%)]\tLoss: 0.229495\n",
            "Train Epoch: 6 [25600/30000 (85%)]\tLoss: 0.032042\n",
            "Train Epoch: 6 [28800/30000 (96%)]\tLoss: 0.009205\n",
            "Train Epoch: 7 [0/30000 (0%)]\tLoss: 0.019643\n",
            "Train Epoch: 7 [3200/30000 (11%)]\tLoss: 0.308373\n",
            "Train Epoch: 7 [6400/30000 (21%)]\tLoss: 0.059377\n",
            "Train Epoch: 7 [9600/30000 (32%)]\tLoss: 0.000661\n",
            "Train Epoch: 7 [12800/30000 (43%)]\tLoss: 0.052097\n",
            "Train Epoch: 7 [16000/30000 (53%)]\tLoss: 0.046606\n",
            "Train Epoch: 7 [19200/30000 (64%)]\tLoss: 0.013705\n",
            "Train Epoch: 7 [22400/30000 (75%)]\tLoss: 0.242384\n",
            "Train Epoch: 7 [25600/30000 (85%)]\tLoss: 0.183470\n",
            "Train Epoch: 7 [28800/30000 (96%)]\tLoss: 0.030421\n",
            "Train Epoch: 8 [0/30000 (0%)]\tLoss: 0.002647\n",
            "Train Epoch: 8 [3200/30000 (11%)]\tLoss: 0.037607\n",
            "Train Epoch: 8 [6400/30000 (21%)]\tLoss: 0.005436\n",
            "Train Epoch: 8 [9600/30000 (32%)]\tLoss: 0.005371\n",
            "Train Epoch: 8 [12800/30000 (43%)]\tLoss: 0.063133\n",
            "Train Epoch: 8 [16000/30000 (53%)]\tLoss: 0.020253\n",
            "Train Epoch: 8 [19200/30000 (64%)]\tLoss: 0.001824\n",
            "Train Epoch: 8 [22400/30000 (75%)]\tLoss: 0.009359\n",
            "Train Epoch: 8 [25600/30000 (85%)]\tLoss: 0.027865\n",
            "Train Epoch: 8 [28800/30000 (96%)]\tLoss: 0.010350\n",
            "Train Epoch: 9 [0/30000 (0%)]\tLoss: 0.013663\n",
            "Train Epoch: 9 [3200/30000 (11%)]\tLoss: 0.003053\n",
            "Train Epoch: 9 [6400/30000 (21%)]\tLoss: 0.002372\n",
            "Train Epoch: 9 [9600/30000 (32%)]\tLoss: 0.008134\n",
            "Train Epoch: 9 [12800/30000 (43%)]\tLoss: 0.001457\n",
            "Train Epoch: 9 [16000/30000 (53%)]\tLoss: 0.014562\n",
            "Train Epoch: 9 [19200/30000 (64%)]\tLoss: 0.001027\n",
            "Train Epoch: 9 [22400/30000 (75%)]\tLoss: 0.031181\n",
            "Train Epoch: 9 [25600/30000 (85%)]\tLoss: 0.023803\n",
            "Train Epoch: 9 [28800/30000 (96%)]\tLoss: 0.002642\n",
            "Train Epoch: 10 [0/30000 (0%)]\tLoss: 0.013196\n",
            "Train Epoch: 10 [3200/30000 (11%)]\tLoss: 0.000312\n",
            "Train Epoch: 10 [6400/30000 (21%)]\tLoss: 0.001758\n",
            "Train Epoch: 10 [9600/30000 (32%)]\tLoss: 0.334164\n",
            "Train Epoch: 10 [12800/30000 (43%)]\tLoss: 0.001984\n",
            "Train Epoch: 10 [16000/30000 (53%)]\tLoss: 0.024146\n",
            "Train Epoch: 10 [19200/30000 (64%)]\tLoss: 0.118351\n",
            "Train Epoch: 10 [22400/30000 (75%)]\tLoss: 0.006765\n",
            "Train Epoch: 10 [25600/30000 (85%)]\tLoss: 0.065057\n",
            "Train Epoch: 10 [28800/30000 (96%)]\tLoss: 0.000235\n",
            "Train Epoch: 1 [0/30000 (0%)]\tLoss: 2.320453\n",
            "Train Epoch: 1 [6400/30000 (21%)]\tLoss: 2.184038\n",
            "Train Epoch: 1 [12800/30000 (43%)]\tLoss: 0.922505\n",
            "Train Epoch: 1 [19200/30000 (64%)]\tLoss: 0.497354\n",
            "Train Epoch: 1 [25600/30000 (85%)]\tLoss: 0.283217\n",
            "Train Epoch: 2 [0/30000 (0%)]\tLoss: 0.306323\n",
            "Train Epoch: 2 [6400/30000 (21%)]\tLoss: 0.218270\n",
            "Train Epoch: 2 [12800/30000 (43%)]\tLoss: 0.114332\n",
            "Train Epoch: 2 [19200/30000 (64%)]\tLoss: 0.145320\n",
            "Train Epoch: 2 [25600/30000 (85%)]\tLoss: 0.192460\n",
            "Train Epoch: 3 [0/30000 (0%)]\tLoss: 0.187258\n",
            "Train Epoch: 3 [6400/30000 (21%)]\tLoss: 0.095127\n",
            "Train Epoch: 3 [12800/30000 (43%)]\tLoss: 0.032616\n",
            "Train Epoch: 3 [19200/30000 (64%)]\tLoss: 0.098081\n",
            "Train Epoch: 3 [25600/30000 (85%)]\tLoss: 0.228798\n",
            "Train Epoch: 4 [0/30000 (0%)]\tLoss: 0.064112\n",
            "Train Epoch: 4 [6400/30000 (21%)]\tLoss: 0.027663\n",
            "Train Epoch: 4 [12800/30000 (43%)]\tLoss: 0.061274\n",
            "Train Epoch: 4 [19200/30000 (64%)]\tLoss: 0.042829\n",
            "Train Epoch: 4 [25600/30000 (85%)]\tLoss: 0.066533\n",
            "Train Epoch: 5 [0/30000 (0%)]\tLoss: 0.068276\n",
            "Train Epoch: 5 [6400/30000 (21%)]\tLoss: 0.043158\n",
            "Train Epoch: 5 [12800/30000 (43%)]\tLoss: 0.280880\n",
            "Train Epoch: 5 [19200/30000 (64%)]\tLoss: 0.006899\n",
            "Train Epoch: 5 [25600/30000 (85%)]\tLoss: 0.087561\n",
            "Train Epoch: 6 [0/30000 (0%)]\tLoss: 0.038393\n",
            "Train Epoch: 6 [6400/30000 (21%)]\tLoss: 0.034913\n",
            "Train Epoch: 6 [12800/30000 (43%)]\tLoss: 0.084060\n",
            "Train Epoch: 6 [19200/30000 (64%)]\tLoss: 0.135032\n",
            "Train Epoch: 6 [25600/30000 (85%)]\tLoss: 0.037520\n",
            "Train Epoch: 7 [0/30000 (0%)]\tLoss: 0.011758\n",
            "Train Epoch: 7 [6400/30000 (21%)]\tLoss: 0.019581\n",
            "Train Epoch: 7 [12800/30000 (43%)]\tLoss: 0.224556\n",
            "Train Epoch: 7 [19200/30000 (64%)]\tLoss: 0.136537\n",
            "Train Epoch: 7 [25600/30000 (85%)]\tLoss: 0.013335\n",
            "Train Epoch: 8 [0/30000 (0%)]\tLoss: 0.046549\n",
            "Train Epoch: 8 [6400/30000 (21%)]\tLoss: 0.024206\n",
            "Train Epoch: 8 [12800/30000 (43%)]\tLoss: 0.022788\n",
            "Train Epoch: 8 [19200/30000 (64%)]\tLoss: 0.063162\n",
            "Train Epoch: 8 [25600/30000 (85%)]\tLoss: 0.029667\n",
            "Train Epoch: 9 [0/30000 (0%)]\tLoss: 0.038386\n",
            "Train Epoch: 9 [6400/30000 (21%)]\tLoss: 0.018075\n",
            "Train Epoch: 9 [12800/30000 (43%)]\tLoss: 0.058824\n",
            "Train Epoch: 9 [19200/30000 (64%)]\tLoss: 0.008511\n",
            "Train Epoch: 9 [25600/30000 (85%)]\tLoss: 0.026506\n"
          ]
        }
      ],
      "source": [
        " # Thí nghiệm tác động của kích thước batch\n",
        "batch_sizes = [16, 32, 64, 128, 256]\n",
        "experiment_batch_size(batch_sizes)"
      ]
    },
    {
      "cell_type": "markdown",
      "id": "-HWq1BPKcN24",
      "metadata": {
        "id": "-HWq1BPKcN24"
      },
      "source": [
        "* Kích thước batch xác định số lượng mẫu dữ liệu được sử dụng để tính toán gradient cho mỗi vòng lặp của thuật toán tối ưu hóa.\n",
        "* Kích thước batch lớn có thể dẫn đến ước tính gradient ổn định hơn và hội tụ trơn tru hơn, vì gradient được tính trung bình trên nhiều mẫu.\n",
        "* Tuy nhiên, kích thước batch quá lớn có thể khiến mô hình hội tụ vào điểm cực tiểu tăm tắp, dẫn đến hiệu năng tổng quát kém.\n",
        "* Kích thước batch nhỏ sẽ đưa thêm nhiễu vào ước tính gradient, nhưng có thể giúp mô hình khám phá bề mặt hàm mất mát hiệu quả hơn và tìm được điểm cực tiểu tốt hơn."
      ]
    },
    {
      "cell_type": "code",
      "execution_count": null,
      "id": "kT4z882vcNSh",
      "metadata": {
        "colab": {
          "background_save": true,
          "base_uri": "https://localhost:8080/"
        },
        "id": "kT4z882vcNSh",
        "outputId": "119b5060-cca0-4a44-faa0-479e34194d96"
      },
      "outputs": [
        {
          "name": "stdout",
          "output_type": "stream",
          "text": [
            "Train Epoch: 1 [0/30000 (0%)]\tLoss: 2.307137\n",
            "Train Epoch: 1 [12800/30000 (43%)]\tLoss: 2.305999\n",
            "Train Epoch: 1 [25600/30000 (85%)]\tLoss: 2.287556\n",
            "Train Epoch: 2 [0/30000 (0%)]\tLoss: 2.285729\n",
            "Train Epoch: 2 [12800/30000 (43%)]\tLoss: 2.277308\n",
            "Train Epoch: 2 [25600/30000 (85%)]\tLoss: 2.258361\n",
            "Train Epoch: 3 [0/30000 (0%)]\tLoss: 2.262552\n",
            "Train Epoch: 3 [12800/30000 (43%)]\tLoss: 2.244435\n",
            "Train Epoch: 3 [25600/30000 (85%)]\tLoss: 2.229628\n",
            "Train Epoch: 4 [0/30000 (0%)]\tLoss: 2.232464\n",
            "Train Epoch: 4 [12800/30000 (43%)]\tLoss: 2.198764\n",
            "Train Epoch: 4 [25600/30000 (85%)]\tLoss: 2.206428\n",
            "Train Epoch: 5 [0/30000 (0%)]\tLoss: 2.179240\n",
            "Train Epoch: 5 [12800/30000 (43%)]\tLoss: 2.137036\n",
            "Train Epoch: 5 [25600/30000 (85%)]\tLoss: 2.112044\n",
            "Train Epoch: 6 [0/30000 (0%)]\tLoss: 2.093596\n",
            "Train Epoch: 6 [12800/30000 (43%)]\tLoss: 2.062203\n",
            "Train Epoch: 6 [25600/30000 (85%)]\tLoss: 1.919247\n",
            "Train Epoch: 7 [0/30000 (0%)]\tLoss: 1.793461\n",
            "Train Epoch: 7 [12800/30000 (43%)]\tLoss: 1.775916\n",
            "Train Epoch: 7 [25600/30000 (85%)]\tLoss: 1.514264\n",
            "Train Epoch: 8 [0/30000 (0%)]\tLoss: 1.427428\n",
            "Train Epoch: 8 [12800/30000 (43%)]\tLoss: 1.231617\n",
            "Train Epoch: 8 [25600/30000 (85%)]\tLoss: 1.004163\n",
            "Train Epoch: 9 [0/30000 (0%)]\tLoss: 1.045810\n",
            "Train Epoch: 9 [12800/30000 (43%)]\tLoss: 0.897297\n",
            "Train Epoch: 9 [25600/30000 (85%)]\tLoss: 0.721698\n",
            "Train Epoch: 10 [0/30000 (0%)]\tLoss: 0.630479\n",
            "Train Epoch: 10 [12800/30000 (43%)]\tLoss: 0.466768\n",
            "Train Epoch: 10 [25600/30000 (85%)]\tLoss: 0.590965\n",
            "Train Epoch: 1 [0/30000 (0%)]\tLoss: 2.291668\n",
            "Train Epoch: 1 [12800/30000 (43%)]\tLoss: 2.196707\n",
            "Train Epoch: 1 [25600/30000 (85%)]\tLoss: 1.018452\n",
            "Train Epoch: 2 [0/30000 (0%)]\tLoss: 0.662603\n",
            "Train Epoch: 2 [12800/30000 (43%)]\tLoss: 0.426539\n",
            "Train Epoch: 2 [25600/30000 (85%)]\tLoss: 0.322811\n",
            "Train Epoch: 3 [0/30000 (0%)]\tLoss: 0.416943\n",
            "Train Epoch: 3 [12800/30000 (43%)]\tLoss: 0.239473\n",
            "Train Epoch: 3 [25600/30000 (85%)]\tLoss: 0.462986\n",
            "Train Epoch: 4 [0/30000 (0%)]\tLoss: 0.105403\n",
            "Train Epoch: 4 [12800/30000 (43%)]\tLoss: 0.270011\n",
            "Train Epoch: 4 [25600/30000 (85%)]\tLoss: 0.263849\n",
            "Train Epoch: 5 [0/30000 (0%)]\tLoss: 0.095209\n",
            "Train Epoch: 5 [12800/30000 (43%)]\tLoss: 0.169550\n",
            "Train Epoch: 5 [25600/30000 (85%)]\tLoss: 0.150725\n",
            "Train Epoch: 6 [0/30000 (0%)]\tLoss: 0.167167\n",
            "Train Epoch: 6 [12800/30000 (43%)]\tLoss: 0.097808\n",
            "Train Epoch: 6 [25600/30000 (85%)]\tLoss: 0.185543\n",
            "Train Epoch: 7 [0/30000 (0%)]\tLoss: 0.080093\n",
            "Train Epoch: 7 [12800/30000 (43%)]\tLoss: 0.231449\n",
            "Train Epoch: 7 [25600/30000 (85%)]\tLoss: 0.208629\n",
            "Train Epoch: 8 [0/30000 (0%)]\tLoss: 0.048484\n",
            "Train Epoch: 8 [12800/30000 (43%)]\tLoss: 0.060380\n",
            "Train Epoch: 8 [25600/30000 (85%)]\tLoss: 0.132021\n",
            "Train Epoch: 9 [0/30000 (0%)]\tLoss: 0.074495\n",
            "Train Epoch: 9 [12800/30000 (43%)]\tLoss: 0.041653\n",
            "Train Epoch: 9 [25600/30000 (85%)]\tLoss: 0.065117\n",
            "Train Epoch: 10 [0/30000 (0%)]\tLoss: 0.042732\n",
            "Train Epoch: 10 [12800/30000 (43%)]\tLoss: 0.061962\n",
            "Train Epoch: 10 [25600/30000 (85%)]\tLoss: 0.183204\n",
            "Train Epoch: 1 [0/30000 (0%)]\tLoss: 2.322601\n",
            "Train Epoch: 1 [12800/30000 (43%)]\tLoss: 0.299213\n",
            "Train Epoch: 1 [25600/30000 (85%)]\tLoss: 0.147404\n",
            "Train Epoch: 2 [0/30000 (0%)]\tLoss: 0.032362\n",
            "Train Epoch: 2 [12800/30000 (43%)]\tLoss: 0.275208\n",
            "Train Epoch: 2 [25600/30000 (85%)]\tLoss: 0.254898\n",
            "Train Epoch: 3 [0/30000 (0%)]\tLoss: 0.044868\n",
            "Train Epoch: 3 [12800/30000 (43%)]\tLoss: 0.120546\n",
            "Train Epoch: 3 [25600/30000 (85%)]\tLoss: 0.015559\n",
            "Train Epoch: 4 [0/30000 (0%)]\tLoss: 0.028834\n",
            "Train Epoch: 4 [12800/30000 (43%)]\tLoss: 0.008436\n",
            "Train Epoch: 4 [25600/30000 (85%)]\tLoss: 0.014138\n",
            "Train Epoch: 5 [0/30000 (0%)]\tLoss: 0.002843\n",
            "Train Epoch: 5 [12800/30000 (43%)]\tLoss: 0.034776\n",
            "Train Epoch: 5 [25600/30000 (85%)]\tLoss: 0.025019\n",
            "Train Epoch: 6 [0/30000 (0%)]\tLoss: 0.008657\n",
            "Train Epoch: 6 [12800/30000 (43%)]\tLoss: 0.004428\n",
            "Train Epoch: 6 [25600/30000 (85%)]\tLoss: 0.013552\n",
            "Train Epoch: 7 [0/30000 (0%)]\tLoss: 0.029134\n",
            "Train Epoch: 7 [12800/30000 (43%)]\tLoss: 0.015803\n",
            "Train Epoch: 7 [25600/30000 (85%)]\tLoss: 0.069007\n",
            "Train Epoch: 8 [0/30000 (0%)]\tLoss: 0.081042\n",
            "Train Epoch: 8 [12800/30000 (43%)]\tLoss: 0.024092\n",
            "Train Epoch: 8 [25600/30000 (85%)]\tLoss: 0.001010\n",
            "Train Epoch: 9 [0/30000 (0%)]\tLoss: 0.002083\n",
            "Train Epoch: 9 [12800/30000 (43%)]\tLoss: 0.014120\n",
            "Train Epoch: 9 [25600/30000 (85%)]\tLoss: 0.082865\n",
            "Train Epoch: 10 [0/30000 (0%)]\tLoss: 0.019718\n",
            "Train Epoch: 10 [12800/30000 (43%)]\tLoss: 0.023218\n",
            "Train Epoch: 10 [25600/30000 (85%)]\tLoss: 0.002811\n"
          ]
        },
        {
          "data": {
            "image/png": "[encoded data removed]",
            "text/plain": [
              "<Figure size 1500x500 with 2 Axes>"
            ]
          },
          "metadata": {},
          "output_type": "display_data"
        }
      ],
      "source": [
        "# Thí nghiệm tác động của tỷ lệ học tập\n",
        "learning_rates = [0.001, 0.01, 0.1]\n",
        "experiment_learning_rate(learning_rates)"
      ]
    },
    {
      "cell_type": "markdown",
      "id": "rUGzd8NlcWEZ",
      "metadata": {
        "id": "rUGzd8NlcWEZ"
      },
      "source": [
        "* Tỷ lệ học xác định bước nhảy theo hướng đối diện của gradient trong quá trình tối ưu hóa.\n",
        "* Tỷ lệ học cao có thể tăng tốc độ hội tụ ban đầu nhưng có thể khiến bộ tối ưu vượt quá điểm cực tiểu, dẫn đến phân kỳ hoặc dao động.\n",
        "* Tỷ lệ học thấp có thể cải thiện ổn định nhưng có thể làm chậm quá trình hội tụ và nguy cơ bị mắc kẹt ở cực tiểu cục bộ hoặc điểm ngứa.\n",
        "* Chọn lịch trình giảm tỷ lệ học phù hợp (ví dụ: giảm dần tỷ lệ học theo thời gian) có thể giúp giảm thiểu các vấn đề này."
      ]
    },
    {
      "cell_type": "code",
      "execution_count": null,
      "id": "ZMFb6n_PcVb6",
      "metadata": {
        "colab": {
          "background_save": true
        },
        "id": "ZMFb6n_PcVb6"
      },
      "outputs": [],
      "source": [
        "import torch.nn.functional as F\n",
        "class Net1(nn.Module):\n",
        "    def __init__(self, num_channels):\n",
        "        super(Net1, self).__init__()\n",
        "        self.conv1 = nn.Conv2d(1, num_channels, kernel_size=3, padding=1)\n",
        "        self.conv2 = nn.Conv2d(num_channels, 32, kernel_size=3, padding=1)\n",
        "        self.pool = nn.MaxPool2d(2, 2)\n",
        "        self.fc1 = nn.Linear(32 * 7 * 7, 128)\n",
        "        self.fc2 = nn.Linear(128, 64)\n",
        "        self.fc3 = nn.Linear(64, 10)\n",
        "\n",
        "    def forward(self, x):\n",
        "        x = self.pool(F.relu(self.conv1(x)))\n",
        "        x = self.pool(F.relu(self.conv2(x)))\n",
        "        x = x.view(-1, 32 * 7 * 7)\n",
        "        x = F.relu(self.fc1(x))\n",
        "        x = F.relu(self.fc2(x))\n",
        "        x = self.fc3(x)\n",
        "        return x"
      ]
    },
    {
      "cell_type": "code",
      "execution_count": null,
      "id": "RM9msNBAcZzJ",
      "metadata": {
        "colab": {
          "background_save": true
        },
        "id": "RM9msNBAcZzJ",
        "outputId": "16ab2302-5a8a-4a83-bc2a-fc5c1177b399"
      },
      "outputs": [
        {
          "name": "stdout",
          "output_type": "stream",
          "text": [
            "Train Epoch: 1 [0/30000 (0%)]\tLoss: 2.302266\n",
            "Train Epoch: 1 [12800/30000 (43%)]\tLoss: 2.294266\n",
            "Train Epoch: 1 [25600/30000 (85%)]\tLoss: 2.241073\n",
            "Train Epoch: 2 [0/30000 (0%)]\tLoss: 2.180564\n",
            "Train Epoch: 2 [12800/30000 (43%)]\tLoss: 1.671087\n",
            "Train Epoch: 2 [25600/30000 (85%)]\tLoss: 0.579688\n",
            "Train Epoch: 3 [0/30000 (0%)]\tLoss: 0.658733\n",
            "Train Epoch: 3 [12800/30000 (43%)]\tLoss: 0.316930\n",
            "Train Epoch: 3 [25600/30000 (85%)]\tLoss: 0.324622\n",
            "Train Epoch: 4 [0/30000 (0%)]\tLoss: 0.261861\n",
            "Train Epoch: 4 [12800/30000 (43%)]\tLoss: 0.232036\n",
            "Train Epoch: 4 [25600/30000 (85%)]\tLoss: 0.151372\n",
            "Train Epoch: 5 [0/30000 (0%)]\tLoss: 0.188893\n",
            "Train Epoch: 5 [12800/30000 (43%)]\tLoss: 0.107119\n",
            "Train Epoch: 5 [25600/30000 (85%)]\tLoss: 0.280690\n",
            "Train Epoch: 6 [0/30000 (0%)]\tLoss: 0.137868\n",
            "Train Epoch: 6 [12800/30000 (43%)]\tLoss: 0.152988\n",
            "Train Epoch: 6 [25600/30000 (85%)]\tLoss: 0.175192\n",
            "Train Epoch: 7 [0/30000 (0%)]\tLoss: 0.123662\n",
            "Train Epoch: 7 [12800/30000 (43%)]\tLoss: 0.121293\n",
            "Train Epoch: 7 [25600/30000 (85%)]\tLoss: 0.092076\n",
            "Train Epoch: 8 [0/30000 (0%)]\tLoss: 0.135588\n",
            "Train Epoch: 8 [12800/30000 (43%)]\tLoss: 0.090443\n",
            "Train Epoch: 8 [25600/30000 (85%)]\tLoss: 0.100486\n",
            "Train Epoch: 9 [0/30000 (0%)]\tLoss: 0.070489\n",
            "Train Epoch: 9 [12800/30000 (43%)]\tLoss: 0.165512\n",
            "Train Epoch: 9 [25600/30000 (85%)]\tLoss: 0.092486\n",
            "Train Epoch: 10 [0/30000 (0%)]\tLoss: 0.153313\n",
            "Train Epoch: 10 [12800/30000 (43%)]\tLoss: 0.074176\n",
            "Train Epoch: 10 [25600/30000 (85%)]\tLoss: 0.137438\n",
            "Train Epoch: 1 [0/30000 (0%)]\tLoss: 2.303569\n",
            "Train Epoch: 1 [12800/30000 (43%)]\tLoss: 2.198875\n",
            "Train Epoch: 1 [25600/30000 (85%)]\tLoss: 1.143878\n",
            "Train Epoch: 2 [0/30000 (0%)]\tLoss: 0.612155\n",
            "Train Epoch: 2 [12800/30000 (43%)]\tLoss: 0.523236\n",
            "Train Epoch: 2 [25600/30000 (85%)]\tLoss: 0.345219\n",
            "Train Epoch: 3 [0/30000 (0%)]\tLoss: 0.273635\n",
            "Train Epoch: 3 [12800/30000 (43%)]\tLoss: 0.228745\n",
            "Train Epoch: 3 [25600/30000 (85%)]\tLoss: 0.296242\n",
            "Train Epoch: 4 [0/30000 (0%)]\tLoss: 0.194634\n",
            "Train Epoch: 4 [12800/30000 (43%)]\tLoss: 0.219753\n",
            "Train Epoch: 4 [25600/30000 (85%)]\tLoss: 0.070211\n",
            "Train Epoch: 5 [0/30000 (0%)]\tLoss: 0.210388\n",
            "Train Epoch: 5 [12800/30000 (43%)]\tLoss: 0.297143\n",
            "Train Epoch: 5 [25600/30000 (85%)]\tLoss: 0.102053\n",
            "Train Epoch: 6 [0/30000 (0%)]\tLoss: 0.111288\n",
            "Train Epoch: 6 [12800/30000 (43%)]\tLoss: 0.218083\n",
            "Train Epoch: 6 [25600/30000 (85%)]\tLoss: 0.129283\n",
            "Train Epoch: 7 [0/30000 (0%)]\tLoss: 0.141123\n",
            "Train Epoch: 7 [12800/30000 (43%)]\tLoss: 0.115121\n",
            "Train Epoch: 7 [25600/30000 (85%)]\tLoss: 0.153564\n",
            "Train Epoch: 8 [0/30000 (0%)]\tLoss: 0.175795\n",
            "Train Epoch: 8 [12800/30000 (43%)]\tLoss: 0.140153\n",
            "Train Epoch: 8 [25600/30000 (85%)]\tLoss: 0.091739\n",
            "Train Epoch: 9 [0/30000 (0%)]\tLoss: 0.032128\n",
            "Train Epoch: 9 [12800/30000 (43%)]\tLoss: 0.065173\n",
            "Train Epoch: 9 [25600/30000 (85%)]\tLoss: 0.064526\n",
            "Train Epoch: 10 [0/30000 (0%)]\tLoss: 0.079442\n",
            "Train Epoch: 10 [12800/30000 (43%)]\tLoss: 0.036715\n",
            "Train Epoch: 10 [25600/30000 (85%)]\tLoss: 0.037265\n"
          ]
        },
        {
          "data": {
            "image/png": "[encoded data removed]",
            "text/plain": [
              "<Figure size 1500x500 with 3 Axes>"
            ]
          },
          "metadata": {},
          "output_type": "display_data"
        }
      ],
      "source": [
        "# Example usage\n",
        "architectures = [Net1, Net]\n",
        "experiment_network_arch(architectures)"
      ]
    },
    {
      "cell_type": "markdown",
      "id": "yz5ob6Fzcb9M",
      "metadata": {
        "id": "yz5ob6Fzcb9M"
      },
      "source": [
        "* Kiến trúc mạng, bao gồm số lượng tầng, loại tầng (ví dụ: tầng tích chập, tầng truy hồi, tầng kết nối đầy đủ) và mối liên kết giữa các tầng, có thể ảnh hưởng đáng kể đến quá trình đào tạo.\n",
        "* Mạng sâu với nhiều tầng có thể tăng khả năng mô hình và cho phép học các biểu diễn phức tạp hơn, nhưng chúng cũng có thể gặp vấn đề như gradient biến mất/bùng nổ và khó khăn trong tối ưu hóa.\n",
        "* Lựa chọn các hàm kích hoạt, các kết nối tầng nhảy, các tầng chuẩn hóa và các thành phần kiến trúc khác có thể ảnh hưởng đến dòng chảy của gradient và bề mặt tối ưu hóa.\n",
        "* Một số lựa chọn kiến trúc như phụ thuộc trong phạm vi dài trong mạng truy hồi hoặc cơ chế tập trung, có thể đưa ra thêm các thách thức cho việc tính toán và truyền gradient."
      ]
    }
  ],
  "metadata": {
    "colab": {
      "provenance": []
    },
    "kernelspec": {
      "display_name": "Python 3 (ipykernel)",
      "language": "python",
      "name": "python3"
    },
    "language_info": {
      "codemirror_mode": {
        "name": "ipython",
        "version": 3
      },
      "file_extension": ".py",
      "mimetype": "text/x-python",
      "name": "python",
      "nbconvert_exporter": "python",
      "pygments_lexer": "ipython3",
      "version": "3.11.5"
    }
  },
  "nbformat": 4,
  "nbformat_minor": 5
}