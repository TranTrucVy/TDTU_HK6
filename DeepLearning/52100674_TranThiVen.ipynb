{
  "nbformat": 4,
  "nbformat_minor": 0,
  "metadata": {
    "colab": {
      "provenance": []
    },
    "kernelspec": {
      "name": "python3",
      "display_name": "Python 3"
    },
    "language_info": {
      "name": "python"
    }
  },
  "cells": [
    {
      "cell_type": "markdown",
      "source": [
        "52100674 - TRẦN THỊ VẸN"
      ],
      "metadata": {
        "id": "jkBMunMUo8Ew"
      }
    },
    {
      "cell_type": "markdown",
      "source": [
        "1) Present the basics of the Convolutional Neural Networks model\n",
        "\n",
        "2) Present the architecture of the Residual Networks model and its variations.\n",
        "\n",
        "3) Apply ResNet in image recognition and compare with conventional CNN models"
      ],
      "metadata": {
        "id": "rCsxG5Z6dnNA"
      }
    },
    {
      "cell_type": "markdown",
      "source": [
        "**1) Present the basics of the Convolutional Neural Networks model**"
      ],
      "metadata": {
        "id": "xlKUN9lOkGH9"
      }
    },
    {
      "cell_type": "markdown",
      "source": [
        "Mạng CNN là một tập hợp các lớp Convolution chồng lên nhau và sử dụng các hàm nonlinear activation như ReLU và tanh để kích hoạt các trọng số trong các node. Mỗi một lớp sau khi thông qua các hàm kích hoạt sẽ tạo ra các thông tin trừu tượng hơn cho các lớp tiếp theo.\n",
        "\n",
        "Mỗi một lớp sau khi thông qua các hàm kích hoạt sẽ tạo ra các thông tin trừu tượng hơn cho các lớp tiếp theo. Trong mô hình mạng truyền ngược (feedforward neural network) thì mỗi neural đầu vào (input node) cho mỗi neural đầu ra trong các lớp tiếp theo.\n",
        "\n",
        "+ Convolutional layers (lớp tích chập): Áp dụng các bộ lọc (kernels) để trích xuất các đặc trưng từ dữ liệu đầu vào thông qua việc tích chập.\n",
        "+ Lớp tổng hợp (pooling layer): Giảm kích thước không gian của biểu diễn đặc trưng bằng cách thực hiện các phép tổng hợp như max pooling hoặc average pooling.\n",
        "+ Activation functions (hàm kích hoạt): Thông thường sử dụng hàm kích hoạt phi tuyến tính như ReLU để thêm tính phi tuyến tính vào mô hình.\n",
        "+ Fully connected layers (lớp kết nối đầy đủ): Lớp cuối cùng của mạng, thường được sử dụng để chuyển từ biểu diễn đặc trưng sang biểu diễn phân loại.\n",
        "\n",
        "**Cách chọn tham số cho CNN**\n",
        "+ Số các convolution layer: càng nhiều các convolution layer thì performance càng được cải thiện. Sau khoảng 3 hoặc 4 layer, các tác động được giảm một cách đáng kể\n",
        "+ Filter size: thường filter theo size 5×5 hoặc 3×3\n",
        "+ Pooling size: thường là 2×2 hoặc 4×4 cho ảnh đầu vào lớn\n",
        "+ Cách cuối cùng là thực hiện nhiều lần việc train test để chọn ra được param tốt nhất."
      ],
      "metadata": {
        "id": "qQ28iVTukm6i"
      }
    },
    {
      "cell_type": "markdown",
      "source": [
        "**2) Present the architecture of the Residual Networks model and its variations**"
      ],
      "metadata": {
        "id": "3J_ljB_CkLtM"
      }
    },
    {
      "cell_type": "markdown",
      "source": [
        "ResNet là một loại mô hình CNN nổi tiếng được giới thiệu bởi Microsoft Research.\n",
        "\n",
        "Kiến trúc chính của ResNet là sự thêm vào các đơn vị dư (residual units) để giải quyết vấn đề độ sâu của mạng. Các đơn vị dư cho phép thông tin truyền qua mạng mà không bị giảm độ chính xác do sự mất mát thông tin.\n",
        "\n",
        "ResNet gần như tương tự với các mạng gồm có convolution, pooling, activation và fully-connected layer. Ảnh bên trên hiển thị khối dư được sử dụng trong mạng. Xuất hiện một mũi tên cong xuất phát từ đầu và kết thúc tại cuối khối dư. Hay nói cách khác là sẽ bổ sung Input X vào đầu ra của layer, hay chính là phép cộng mà ta thấy trong hình minh họa, việc này sẽ chống lại việc đạo hàm bằng 0, do vẫn còn cộng thêm X. Với H(x) là giá trị dự đoán, F(x) là giá trị thật (nhãn), chúng ta muốn H(x) bằng hoặc xấp xỉ F(x). Việc F(x) có được từ x như sau:\n",
        "\n",
        "X->weight1-> ReLU -> weight2\n",
        "\n",
        "Giá trị H(x) có được bằng cách:\n",
        "\n",
        "F(x) + x -> ReLU\n",
        "\n",
        "**Một số biến thể của ResNet bao gồm:**\n",
        "+ ResNet-18, ResNet-34: Các phiên bản nhẹ của ResNet với số lượng lớp tương ứng là 18 và 34.\n",
        "+ ResNet-50, ResNet-101, ResNet-152: Các phiên bản nặng hơn của ResNet với số lượng lớp tương ứng là 50, 101 và 152."
      ],
      "metadata": {
        "id": "f9Wu5Gk3ldCP"
      }
    },
    {
      "cell_type": "markdown",
      "source": [
        "**3) Apply ResNet in image recognition and compare with conventional CNN models**"
      ],
      "metadata": {
        "id": "zVXqAHtQkiQo"
      }
    },
    {
      "cell_type": "code",
      "source": [
        "import torch\n",
        "import torch.nn as nn\n",
        "import torch.optim as optim\n",
        "import torchvision\n",
        "import torchvision.transforms as transforms\n",
        "from torchvision.models import resnet18\n",
        "\n",
        "# Chuẩn bị dữ liệu\n",
        "transform = transforms.Compose([\n",
        "    transforms.ToTensor(),\n",
        "    transforms.Normalize((0.5, 0.5, 0.5), (0.5, 0.5, 0.5))\n",
        "])\n",
        "\n",
        "trainset = torchvision.datasets.CIFAR10(root='./data', train=True, download=True, transform=transform)\n",
        "trainloader = torch.utils.data.DataLoader(trainset, batch_size=32, shuffle=True)\n",
        "\n",
        "testset = torchvision.datasets.CIFAR10(root='./data', train=False, download=True, transform=transform)\n",
        "testloader = torch.utils.data.DataLoader(testset, batch_size=32, shuffle=False)"
      ],
      "metadata": {
        "colab": {
          "base_uri": "https://localhost:8080/"
        },
        "id": "sQLMuh2-mi5F",
        "outputId": "4ee0d535-c94a-4934-d5fb-57e72ab33f42"
      },
      "execution_count": 1,
      "outputs": [
        {
          "output_type": "stream",
          "name": "stdout",
          "text": [
            "Downloading https://www.cs.toronto.edu/~kriz/cifar-10-python.tar.gz to ./data/cifar-10-python.tar.gz\n"
          ]
        },
        {
          "output_type": "stream",
          "name": "stderr",
          "text": [
            "100%|██████████| 170498071/170498071 [00:05<00:00, 28657465.39it/s]\n"
          ]
        },
        {
          "output_type": "stream",
          "name": "stdout",
          "text": [
            "Extracting ./data/cifar-10-python.tar.gz to ./data\n",
            "Files already downloaded and verified\n"
          ]
        }
      ]
    },
    {
      "cell_type": "code",
      "source": [
        "# Mô hình CNN\n",
        "class SimpleCNN(nn.Module):\n",
        "    def __init__(self):\n",
        "        super(SimpleCNN, self).__init__()\n",
        "        self.conv1 = nn.Conv2d(3, 32, 3, padding=1)\n",
        "        self.conv2 = nn.Conv2d(32, 64, 3, padding=1)\n",
        "        self.pool = nn.MaxPool2d(2, 2)\n",
        "        self.fc1 = nn.Linear(64 * 8 * 8, 512)\n",
        "        self.fc2 = nn.Linear(512, 10)\n",
        "\n",
        "    def forward(self, x):\n",
        "        x = self.pool(torch.relu(self.conv1(x)))\n",
        "        x = self.pool(torch.relu(self.conv2(x)))\n",
        "        x = x.view(-1, 64 * 8 * 8)\n",
        "        x = torch.relu(self.fc1(x))\n",
        "        x = self.fc2(x)\n",
        "        return x"
      ],
      "metadata": {
        "id": "DNG1bD8Xm2fi"
      },
      "execution_count": 4,
      "outputs": []
    },
    {
      "cell_type": "code",
      "source": [
        "# # Mô hình ResNet\n",
        "# class ResNet(nn.Module):\n",
        "#     def __init__(self):\n",
        "#         super(ResNet, self).__init__()\n",
        "#         self.resnet = resnet18(pretrained=False, num_classes=10)\n",
        "\n",
        "#     def forward(self, x):\n",
        "#         return self.resnet(x)"
      ],
      "metadata": {
        "id": "6MmS1IZ1m4_-"
      },
      "execution_count": 3,
      "outputs": []
    },
    {
      "cell_type": "code",
      "source": [
        "def train(model, criterion, optimizer, trainloader, epochs=5):\n",
        "    model.train()\n",
        "    for epoch in range(epochs):\n",
        "        running_loss = 0.0\n",
        "        for inputs, labels in trainloader:\n",
        "            optimizer.zero_grad()\n",
        "            outputs = model(inputs)\n",
        "            loss = criterion(outputs, labels)\n",
        "            loss.backward()\n",
        "            optimizer.step()\n",
        "            running_loss += loss.item()\n",
        "        print(f\"Epoch {epoch+1}, Loss: {running_loss/len(trainloader)}\")"
      ],
      "metadata": {
        "id": "T8hU2tK9m9MT"
      },
      "execution_count": 5,
      "outputs": []
    },
    {
      "cell_type": "code",
      "source": [
        "def test(model, testloader):\n",
        "    model.eval()\n",
        "    correct = 0\n",
        "    total = 0\n",
        "    with torch.no_grad():\n",
        "        for inputs, labels in testloader:\n",
        "            outputs = model(inputs)\n",
        "            _, predicted = torch.max(outputs.data, 1)\n",
        "            total += labels.size(0)\n",
        "            correct += (predicted == labels).sum().item()\n",
        "    print(f\"Accuracy: {correct/total}\")"
      ],
      "metadata": {
        "id": "Obw0KmJonCBy"
      },
      "execution_count": 6,
      "outputs": []
    },
    {
      "cell_type": "code",
      "source": [
        "cnn_model = SimpleCNN()\n",
        "criterion = nn.CrossEntropyLoss()\n",
        "optimizer = optim.Adam(cnn_model.parameters(), lr=0.001)\n",
        "train(cnn_model, criterion, optimizer, trainloader)\n",
        "test(cnn_model, testloader)"
      ],
      "metadata": {
        "colab": {
          "base_uri": "https://localhost:8080/"
        },
        "id": "lB0sveShnEr_",
        "outputId": "04865560-2ccb-4c61-b0dc-a466678f3791"
      },
      "execution_count": 7,
      "outputs": [
        {
          "output_type": "stream",
          "name": "stdout",
          "text": [
            "Epoch 1, Loss: 1.20242922373178\n",
            "Epoch 2, Loss: 0.8062067246368431\n",
            "Epoch 3, Loss: 0.5946559427223828\n",
            "Epoch 4, Loss: 0.41221145488993904\n",
            "Epoch 5, Loss: 0.25284707510363613\n",
            "Accuracy: 0.7422\n"
          ]
        }
      ]
    },
    {
      "cell_type": "code",
      "source": [
        "# resnet_model = ResNet()\n",
        "# criterion = nn.CrossEntropyLoss()\n",
        "# optimizer = optim.Adam(resnet_model.parameters(), lr=0.001)\n",
        "# train(resnet_model, criterion, optimizer, trainloader)\n",
        "# test(resnet_model, testloader)"
      ],
      "metadata": {
        "id": "smXEvyDVnGFO"
      },
      "execution_count": null,
      "outputs": []
    },
    {
      "cell_type": "code",
      "source": [
        "import torch\n",
        "import torch.nn as nn\n",
        "import torch.optim as optim\n",
        "import torchvision\n",
        "import torchvision.transforms as transforms\n",
        "from torchvision.models import resnet18\n",
        "\n",
        "# Chuẩn bị dữ liệu\n",
        "transform = transforms.Compose([\n",
        "    transforms.ToTensor(),\n",
        "    transforms.Normalize((0.5, 0.5, 0.5), (0.5, 0.5, 0.5))\n",
        "])\n",
        "\n",
        "trainset = torchvision.datasets.CIFAR10(root='./data', train=True, download=True, transform=transform)\n",
        "trainloader = torch.utils.data.DataLoader(trainset, batch_size=16, shuffle=True)\n",
        "\n",
        "testset = torchvision.datasets.CIFAR10(root='./data', train=False, download=True, transform=transform)\n",
        "testloader = torch.utils.data.DataLoader(testset, batch_size=16, shuffle=False)\n",
        "\n",
        "# Mô hình ResNet\n",
        "class ResNet(nn.Module):\n",
        "    def __init__(self):\n",
        "        super(ResNet, self).__init__()\n",
        "        self.resnet = resnet18(pretrained=False, num_classes=10)\n",
        "\n",
        "    def forward(self, x):\n",
        "        return self.resnet(x)\n",
        "\n",
        "def train(model, criterion, optimizer, trainloader, epochs=5):\n",
        "    model.train()\n",
        "    for epoch in range(epochs):\n",
        "        running_loss = 0.0\n",
        "        for inputs, labels in trainloader:\n",
        "            optimizer.zero_grad()\n",
        "            outputs = model(inputs)\n",
        "            loss = criterion(outputs, labels)\n",
        "            loss.backward()\n",
        "            optimizer.step()\n",
        "            running_loss += loss.item()\n",
        "        print(f\"Epoch {epoch+1}, Loss: {running_loss/len(trainloader)}\")\n",
        "\n",
        "def test(model, testloader):\n",
        "    model.eval()\n",
        "    correct = 0\n",
        "    total = 0\n",
        "    with torch.no_grad():\n",
        "        for inputs, labels in testloader:\n",
        "            outputs = model(inputs)\n",
        "            _, predicted = torch.max(outputs.data, 1)\n",
        "            total += labels.size(0)\n",
        "            correct += (predicted == labels).sum().item()\n",
        "    print(f\"Accuracy: {correct/total}\")\n",
        "\n",
        "# Huấn luyện và đánh giá mô hình ResNet\n",
        "resnet_model = ResNet()\n",
        "criterion = nn.CrossEntropyLoss()\n",
        "optimizer = optim.Adam(resnet_model.parameters(), lr=0.01)  # Thử tăng learning rate\n",
        "train(resnet_model, criterion, optimizer, trainloader, epochs=5)  # Giảm số lượng epoch\n",
        "test(resnet_model, testloader)"
      ],
      "metadata": {
        "colab": {
          "base_uri": "https://localhost:8080/"
        },
        "id": "Fh6sS7VO0vL6",
        "outputId": "db0441c2-d876-4e6c-b1b9-8cf1ef904752"
      },
      "execution_count": null,
      "outputs": [
        {
          "output_type": "stream",
          "name": "stdout",
          "text": [
            "Files already downloaded and verified\n",
            "Files already downloaded and verified\n",
            "Epoch 1, Loss: 1.72664173286438\n"
          ]
        }
      ]
    }
  ]
}