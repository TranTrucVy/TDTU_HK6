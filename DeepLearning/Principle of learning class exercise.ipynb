{
  "nbformat": 4,
  "nbformat_minor": 0,
  "metadata": {
    "colab": {
      "provenance": []
    },
    "kernelspec": {
      "name": "python3",
      "display_name": "Python 3"
    },
    "language_info": {
      "name": "python"
    }
  },
  "cells": [
    {
      "cell_type": "markdown",
      "source": [
        "**Xây dựng mô hình NN cùng với 3 cái optimizer khác nhau: adam, sgd,rmsprop**"
      ],
      "metadata": {
        "id": "2sDqviulojFR"
      }
    },
    {
      "cell_type": "code",
      "source": [
        "# Import các thư viện cần thiết\n",
        "import numpy as np\n",
        "from sklearn.model_selection import train_test_split\n",
        "from sklearn.preprocessing import StandardScaler\n",
        "import tensorflow as tf\n",
        "from tensorflow.keras.models import Sequential\n",
        "from tensorflow.keras.layers import Dense"
      ],
      "metadata": {
        "id": "z-XDpUTKnAVz"
      },
      "execution_count": 9,
      "outputs": []
    },
    {
      "cell_type": "code",
      "source": [
        "from sklearn.datasets import fetch_california_housing\n",
        "\n",
        "# Load bộ dữ liệu California Housing\n",
        "housing = fetch_california_housing()"
      ],
      "metadata": {
        "id": "JKiqaXjZnBF_"
      },
      "execution_count": 10,
      "outputs": []
    },
    {
      "cell_type": "code",
      "source": [
        "# Xác định các features (đặc trưng) và target (giá nhà)\n",
        "X, y = housing.data, housing.target\n",
        "\n",
        "# Chuẩn hóa dữ liệu\n",
        "scaler = StandardScaler()\n",
        "X_scaled = scaler.fit_transform(X)"
      ],
      "metadata": {
        "id": "FomwlE_LnF12"
      },
      "execution_count": 12,
      "outputs": []
    },
    {
      "cell_type": "code",
      "source": [
        "# Tách dữ liệu thành tập huấn luyện và tập kiểm tra\n",
        "X_train, X_test, y_train, y_test = train_test_split(X_scaled, y, test_size=0.2, random_state=42)"
      ],
      "metadata": {
        "id": "vz2PNKa3nL7c"
      },
      "execution_count": 13,
      "outputs": []
    },
    {
      "cell_type": "code",
      "source": [
        "# Xây dựng mô hình mạng nơ-ron\n",
        "model = Sequential([\n",
        "    Dense(64, activation='relu', input_shape=(X_train.shape[1],)),\n",
        "    Dense(64, activation='relu'),\n",
        "    Dense(1)\n",
        "])"
      ],
      "metadata": {
        "id": "ulef0i8BnTbq"
      },
      "execution_count": 14,
      "outputs": []
    },
    {
      "cell_type": "code",
      "source": [
        "# Compile mô hình\n",
        "model.compile(optimizer='adam', loss='mean_squared_error')\n",
        "\n",
        "# Huấn luyện mô hình\n",
        "history = model.fit(X_train, y_train, epochs=10, batch_size=32, validation_split=0.2)\n",
        "\n",
        "# Đánh giá mô hình trên tập kiểm tra\n",
        "loss = model.evaluate(X_test, y_test)\n",
        "print(f'Test loss: {loss}')\n",
        "\n",
        "# Dự đoán giá nhà từ dữ liệu kiểm tra\n",
        "predictions = model.predict(X_test)\n",
        "\n",
        "# In một số dự đoán và giá thực tế tương ứng\n",
        "for i in range(10):\n",
        "    print(f'Predicted price: {predictions[i][0]}, Actual price: {y_test[i]}')"
      ],
      "metadata": {
        "colab": {
          "base_uri": "https://localhost:8080/"
        },
        "id": "Eoe7Wx93nX1t",
        "outputId": "1bae8d46-a371-42e0-d32d-79acdb143583"
      },
      "execution_count": 15,
      "outputs": [
        {
          "output_type": "stream",
          "name": "stdout",
          "text": [
            "Epoch 1/10\n",
            "413/413 [==============================] - 2s 4ms/step - loss: 1.0562 - val_loss: 0.4670\n",
            "Epoch 2/10\n",
            "413/413 [==============================] - 2s 4ms/step - loss: 0.3982 - val_loss: 0.4026\n",
            "Epoch 3/10\n",
            "413/413 [==============================] - 1s 2ms/step - loss: 0.3639 - val_loss: 0.3856\n",
            "Epoch 4/10\n",
            "413/413 [==============================] - 1s 2ms/step - loss: 0.3469 - val_loss: 0.3719\n",
            "Epoch 5/10\n",
            "413/413 [==============================] - 1s 3ms/step - loss: 0.3346 - val_loss: 0.3630\n",
            "Epoch 6/10\n",
            "413/413 [==============================] - 1s 2ms/step - loss: 0.3354 - val_loss: 0.3758\n",
            "Epoch 7/10\n",
            "413/413 [==============================] - 1s 2ms/step - loss: 0.4209 - val_loss: 0.3736\n",
            "Epoch 8/10\n",
            "413/413 [==============================] - 1s 2ms/step - loss: 0.3358 - val_loss: 0.3558\n",
            "Epoch 9/10\n",
            "413/413 [==============================] - 1s 2ms/step - loss: 0.3084 - val_loss: 0.3308\n",
            "Epoch 10/10\n",
            "413/413 [==============================] - 1s 2ms/step - loss: 0.3103 - val_loss: 0.3205\n",
            "129/129 [==============================] - 0s 1ms/step - loss: 0.3135\n",
            "Test loss: 0.31346696615219116\n",
            "129/129 [==============================] - 0s 1ms/step\n",
            "Predicted price: 0.5645357370376587, Actual price: 0.477\n",
            "Predicted price: 1.3319084644317627, Actual price: 0.458\n",
            "Predicted price: 4.26547384262085, Actual price: 5.00001\n",
            "Predicted price: 2.6304805278778076, Actual price: 2.186\n",
            "Predicted price: 2.9599146842956543, Actual price: 2.78\n",
            "Predicted price: 1.728227972984314, Actual price: 1.587\n",
            "Predicted price: 2.4913716316223145, Actual price: 1.982\n",
            "Predicted price: 1.6014995574951172, Actual price: 1.575\n",
            "Predicted price: 2.814105749130249, Actual price: 3.4\n",
            "Predicted price: 4.432545185089111, Actual price: 4.466\n"
          ]
        }
      ]
    },
    {
      "cell_type": "code",
      "source": [
        "# Compile mô hình\n",
        "model.compile(optimizer='sgd', loss='mean_squared_error')\n",
        "\n",
        "# Huấn luyện mô hình\n",
        "history = model.fit(X_train, y_train, epochs=10, batch_size=32, validation_split=0.2)\n",
        "\n",
        "# Đánh giá mô hình trên tập kiểm tra\n",
        "loss = model.evaluate(X_test, y_test)\n",
        "print(f'Test loss: {loss}')\n",
        "\n",
        "# Dự đoán giá nhà từ dữ liệu kiểm tra\n",
        "predictions = model.predict(X_test)\n",
        "\n",
        "# In một số dự đoán và giá thực tế tương ứng\n",
        "for i in range(10):\n",
        "    print(f'Predicted price: {predictions[i][0]}, Actual price: {y_test[i]}')"
      ],
      "metadata": {
        "colab": {
          "base_uri": "https://localhost:8080/"
        },
        "id": "0fpKj-pwoHUu",
        "outputId": "705efd19-78ec-4640-9f94-d48d82696ac9"
      },
      "execution_count": 17,
      "outputs": [
        {
          "output_type": "stream",
          "name": "stdout",
          "text": [
            "Epoch 1/10\n",
            "413/413 [==============================] - 1s 2ms/step - loss: 0.2701 - val_loss: 0.3031\n",
            "Epoch 2/10\n",
            "413/413 [==============================] - 1s 2ms/step - loss: 0.2702 - val_loss: 0.3084\n",
            "Epoch 3/10\n",
            "413/413 [==============================] - 1s 2ms/step - loss: 0.2696 - val_loss: 0.3032\n",
            "Epoch 4/10\n",
            "413/413 [==============================] - 2s 4ms/step - loss: 0.2711 - val_loss: 0.2997\n",
            "Epoch 5/10\n",
            "413/413 [==============================] - 2s 4ms/step - loss: 0.2835 - val_loss: 0.2973\n",
            "Epoch 6/10\n",
            "413/413 [==============================] - 1s 2ms/step - loss: 0.2827 - val_loss: 0.2992\n",
            "Epoch 7/10\n",
            "413/413 [==============================] - 1s 2ms/step - loss: 0.2693 - val_loss: 0.2976\n",
            "Epoch 8/10\n",
            "413/413 [==============================] - 1s 2ms/step - loss: 0.2678 - val_loss: 0.2992\n",
            "Epoch 9/10\n",
            "413/413 [==============================] - 1s 2ms/step - loss: 0.2678 - val_loss: 0.2996\n",
            "Epoch 10/10\n",
            "413/413 [==============================] - 1s 2ms/step - loss: 0.2672 - val_loss: 0.2996\n",
            "129/129 [==============================] - 0s 1ms/step - loss: 0.2884\n",
            "Test loss: 0.2883933186531067\n",
            "129/129 [==============================] - 0s 1ms/step\n",
            "Predicted price: 0.45479071140289307, Actual price: 0.477\n",
            "Predicted price: 1.0689055919647217, Actual price: 0.458\n",
            "Predicted price: 4.583852767944336, Actual price: 5.00001\n",
            "Predicted price: 2.664999485015869, Actual price: 2.186\n",
            "Predicted price: 3.0133914947509766, Actual price: 2.78\n",
            "Predicted price: 1.6507394313812256, Actual price: 1.587\n",
            "Predicted price: 2.4880709648132324, Actual price: 1.982\n",
            "Predicted price: 1.5718879699707031, Actual price: 1.575\n",
            "Predicted price: 2.6831982135772705, Actual price: 3.4\n",
            "Predicted price: 4.5174102783203125, Actual price: 4.466\n"
          ]
        }
      ]
    },
    {
      "cell_type": "code",
      "source": [
        "# Compile mô hình\n",
        "model.compile(optimizer='rmsprop', loss='mean_squared_error')\n",
        "\n",
        "# Huấn luyện mô hình\n",
        "history = model.fit(X_train, y_train, epochs=10, batch_size=32, validation_split=0.2)\n",
        "\n",
        "# Đánh giá mô hình trên tập kiểm tra\n",
        "loss = model.evaluate(X_test, y_test)\n",
        "print(f'Test loss: {loss}')\n",
        "\n",
        "# Dự đoán giá nhà từ dữ liệu kiểm tra\n",
        "predictions = model.predict(X_test)\n",
        "\n",
        "# In một số dự đoán và giá thực tế tương ứng\n",
        "for i in range(10):\n",
        "    print(f'Predicted price: {predictions[i][0]}, Actual price: {y_test[i]}')"
      ],
      "metadata": {
        "colab": {
          "base_uri": "https://localhost:8080/"
        },
        "id": "6zDP48yZoQke",
        "outputId": "c2270d42-dc50-4946-e697-5a9b26f0ba52"
      },
      "execution_count": 18,
      "outputs": [
        {
          "output_type": "stream",
          "name": "stdout",
          "text": [
            "Epoch 1/10\n",
            "413/413 [==============================] - 1s 2ms/step - loss: 0.2768 - val_loss: 0.2990\n",
            "Epoch 2/10\n",
            "413/413 [==============================] - 1s 2ms/step - loss: 0.2751 - val_loss: 0.3098\n",
            "Epoch 3/10\n",
            "413/413 [==============================] - 1s 2ms/step - loss: 0.2743 - val_loss: 0.3320\n",
            "Epoch 4/10\n",
            "413/413 [==============================] - 1s 2ms/step - loss: 0.2727 - val_loss: 0.3015\n",
            "Epoch 5/10\n",
            "413/413 [==============================] - 1s 2ms/step - loss: 0.2733 - val_loss: 0.2991\n",
            "Epoch 6/10\n",
            "413/413 [==============================] - 1s 2ms/step - loss: 0.2712 - val_loss: 0.3052\n",
            "Epoch 7/10\n",
            "413/413 [==============================] - 1s 2ms/step - loss: 0.2684 - val_loss: 0.3173\n",
            "Epoch 8/10\n",
            "413/413 [==============================] - 1s 2ms/step - loss: 0.2709 - val_loss: 0.2982\n",
            "Epoch 9/10\n",
            "413/413 [==============================] - 1s 2ms/step - loss: 0.2674 - val_loss: 0.3062\n",
            "Epoch 10/10\n",
            "413/413 [==============================] - 1s 3ms/step - loss: 0.2660 - val_loss: 0.3035\n",
            "129/129 [==============================] - 0s 1ms/step - loss: 0.2938\n",
            "Test loss: 0.29381105303764343\n",
            "129/129 [==============================] - 0s 1ms/step\n",
            "Predicted price: 0.3645595908164978, Actual price: 0.477\n",
            "Predicted price: 0.9104760885238647, Actual price: 0.458\n",
            "Predicted price: 4.390018939971924, Actual price: 5.00001\n",
            "Predicted price: 2.498000144958496, Actual price: 2.186\n",
            "Predicted price: 2.78899884223938, Actual price: 2.78\n",
            "Predicted price: 1.5525814294815063, Actual price: 1.587\n",
            "Predicted price: 2.4008002281188965, Actual price: 1.982\n",
            "Predicted price: 1.589896559715271, Actual price: 1.575\n",
            "Predicted price: 2.3914685249328613, Actual price: 3.4\n",
            "Predicted price: 4.681234359741211, Actual price: 4.466\n"
          ]
        }
      ]
    }
  ]
}